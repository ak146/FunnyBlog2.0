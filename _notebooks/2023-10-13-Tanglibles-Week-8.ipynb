{
 "cells": [
  {
   "cell_type": "markdown",
   "metadata": {},
   "source": [
    "---\n",
    "toc: true\n",
    "comments: true\n",
    "layout: post\n",
    "title: Tanglibles 8\n",
    "description: Week 8 Tangibles\n",
    "courses: { csp: {week: 7} }\n",
    "type: tangibles\n",
    "---"
   ]
  },
  {
   "cell_type": "markdown",
   "metadata": {},
   "source": [
    "# Summary\n",
    "\n",
    "## Incomplete\n",
    "- Began working on our teamteach\n",
    "- Opened up flask server and started modifying\n",
    "## Completed\n",
    "\n",
    "- [Boolean If](https://ak146.github.io/FunnyBlog2.0//2023/10/03/data-abstraction_IPYNB_2_.html)\n",
    "- [Iteration](https://ak146.github.io/FunnyBlog2.0//2023/10/09/IterationLesson_IPYNB_2_.html)"
   ]
  },
  {
   "cell_type": "markdown",
   "metadata": {},
   "source": []
  }
 ],
 "metadata": {
  "language_info": {
   "name": "python"
  },
  "orig_nbformat": 4
 },
 "nbformat": 4,
 "nbformat_minor": 2
}
