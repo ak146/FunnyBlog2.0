{
 "cells": [
  {
   "cell_type": "markdown",
   "metadata": {},
   "source": [
    "---\n",
    "toc: true\n",
    "comments: true\n",
    "layout: post\n",
    "title: Tanglibles 6/ Week 7 plans\n",
    "description: Week 6 Tangibles\n",
    "courses: { csp: {week: 5} }\n",
    "type: tangibles\n",
    "---"
   ]
  },
  {
   "cell_type": "markdown",
   "metadata": {},
   "source": [
    "# Summary\n",
    "\n",
    "\n",
    "## Completed\n",
    "- We learned about HTML and and how to implement it into javascript\n",
    "\n",
    "# Plans\n",
    "\n",
    "- Brainstorm passion project and get flask running"
   ]
  }
 ],
 "metadata": {
  "language_info": {
   "name": "python"
  },
  "orig_nbformat": 4
 },
 "nbformat": 4,
 "nbformat_minor": 2
}
