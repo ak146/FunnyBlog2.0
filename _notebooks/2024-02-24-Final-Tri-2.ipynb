{
 "cells": [
  {
   "cell_type": "markdown",
   "metadata": {},
   "source": [
    "---\n",
    "toc: True\n",
    "comments: True\n",
    "title: The Internet\n",
    "description: Exploring the Internet\n",
    "courses: {'compsci': {'week': 13}}\n",
    "type: hacks\n",
    "---"
   ]
  },
  {
   "cell_type": "markdown",
   "metadata": {
    "vscode": {
     "languageId": "plaintext"
    }
   },
   "source": [
    "### GROUP -Ishan\n",
    "Our project is mainly focused around something everyone in my group enjoys, video games. Video games was something we could all agree on and something we enjoy playing regularly. Even though we all love video games there should only be a certain amount you should play a day, and thats why we made this project. Our project focuses on putting games right next to education and physical hubs so they are easy to access and motivate our users to while enjoying the game to do other things. Our project has features that help and give you tips on physical health and help studying and finding out what level of education you are at, while also letting the users relax and play games.\n",
    "\n",
    "## Individual Feature\n",
    "My feature was the score and leaderboard features. I had to connect the score in the frontend to the backend and make a leaderboard that compared the scores.\n",
    "I also added the login and create user pages that were displayed on the second quiz. \n",
    "I edited the CSS for both the Login and Cookie Clicker.\n",
    "## Collegeboard Requirements\n",
    "![s](https://github.com/tuckergol/student2/blob/main/images/FeatureCPT.png?raw=true)\n",
    "Instructions for input from one of the following: the user, a device, an online datas stream, a file.\n",
    "- My feature signs you in as a user and takes in the value of their score and connects to that user.\n",
    "\n",
    "Use of at least one list (or other collection type) to represent a collectino of data that is stored and used to manage program complexity and help fulfill the users purpose.\n",
    "- My feature takes a list of score values and connects each to a user. It also sorts the JSON that is being fetched by the leaderboard and sorting it by the descending score values.\n",
    "![image](https://i.ibb.co/Bqhz49y/Screenshot-2024-02-25-at-1-24-09-PM.png)\n",
    "\n",
    "- At least one procedure that contirubted to the program’s intended purpose where you have defined: the name, return type, one or more parameters:\n",
    "The put method requires the user id and returns updated data\n",
    "\n",
    "![s](https://i.ibb.co/dgRWfJ1/Screenshot-2024-02-25-211530.png)\n",
    "\n",
    "- An algorithm that includes sequencing, selection, and iteration that is in the body of the selected procedure\n",
    "The data has is iterated through before it is returned in order to properly order the data by the score value given to each user.\n",
    "[s](https://i.ibb.co/3m83FwH/Screenshot-2024-02-25-212652.png>)\n",
    "\n",
    "- Calls to your student-developed procedure:\n",
    "[s](https://i.ibb.co/1nBLp6N/Screenshot-2024-02-25-212047.png\")\n",
    "\n",
    "- Instructions for output (tactile, audible, visual, or ) based on input and program functionality\n",
    "This is the code that puts the data. It returns to the user based on their user id. The payload is shown below\n",
    "\n",
    "![s](https://i.ibb.co/3B3LPGW/Screenshot-2024-02-25-212920.png)\n",
    "\n",
    "![s](https://i.ibb.co/FJkH5PZ/Screenshot-2024-02-25-211243.png)\n",
    "\n",
    "## Video\n",
    "input to program: the cookie button updating score in SQlite database.\n",
    "At least one aspect of the functionality of your program: The leaderboard displaying the correct numbers and rearangging \n",
    "No more than 1 minute in length\n",
    "No more than 30MB in file size\n",
    "\n",
    "[video](https://drive.google.com/file/d/1Mofw2i-X2rCWn2_PPjSZfFhwgtOJjtLe/view?usp=sharing)\n",
    "\n",
    "### Personal Growth\n",
    "\n",
    "- Overrall I feel like I was able to complete a lot what I aimed to do at the end of last tri. Last tri I was a mainly frontend person and this tri I was the first person in our group to begin working on and understanding the backend. I was able to help our whole group begin setting up their backends. This tri I felt I was a lot more consistent with commits. I was able to get the login system working as well as getting most of the cookie clicking up. I have learned a lot about debugging, sqlite and the importance of downloading PyJWT. "
   ]
  }
 ],
 "metadata": {
  "language_info": {
   "name": "python"
  }
 },
 "nbformat": 4,
 "nbformat_minor": 2
}
