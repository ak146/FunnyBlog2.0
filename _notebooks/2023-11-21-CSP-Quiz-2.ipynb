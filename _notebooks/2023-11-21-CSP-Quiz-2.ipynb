{
 "cells": [
  {
   "cell_type": "markdown",
   "metadata": {},
   "source": [
    "---\n",
    "toc: true\n",
    "comments: true\n",
    "layout: post\n",
    "title: Test Reflection No.2\n",
    "courses: {CSP: {week: 4}}\n",
    "type: blogs\n",
    "---"
   ]
  },
  {
   "cell_type": "markdown",
   "metadata": {},
   "source": [
    "### Reflection\n",
    "-   I spent a lot longer on this mcq than on the last one. I made sure to actually logic through the pseudo code instead of trying to guess my way through it. Some of the homework assignments that were given by the team teaches were very close to the questions that were being asked. Some like the Internet, Crowdsourcing, and Routing and Computing gave questions that were almost identical to the questions that the MCQ gave. This added knowledge helped me answer less code bases problems. However, I spent too much time on this MCQ. I did not complete it the alloted class time on Wednesday and had to complete on Thursday. I can take my time and reason out the code, but I am still inefficient and need to have more fluency when I am reading psuedo code. In order to pass the AP exam, I have to come to conclusions more efficiently and be able to trust myself to solve out the Psuedo code without having to write it down. I should also be able to notice patterns in between psuedo code problems. I can do this by answering more psuedo code mcqs or reading more psuedo code. I could also look at more coding problems and use psuedo code to help me understand how I would solve these problems. I also felt like I needed to take a step back when reading the long and more logic based questions. These ones were often the hardest. A better plan of attack for these questions might to be read what each given function does and write down what actions each answer completes. I could also try reading each answer step by step in order to eliminate incorrect answers through process of elimination. This could assist and affirm my answers on future MCQs. I felt as though I could read and understand the Pseudo code better on this MCQ. After reading the Psuedo code collegeboard sheet at the end of last trimester, I better understood what each symbol meant. This allowed me to move faster and understand what each function did more efficiently. Even though I still have a lot of room to improve(as previously stated), I felt that my understanding has increased since last trimester. In order to prepare for the AP exam, it would probably be best to watch through the Collegeboard videos. After seeing how helpful the team teaches were, I imagine it would help if I used and learned from the sources they learned from. "
   ]
  }
 ],
 "metadata": {
  "language_info": {
   "name": "python"
  },
  "orig_nbformat": 4
 },
 "nbformat": 4,
 "nbformat_minor": 2
}
