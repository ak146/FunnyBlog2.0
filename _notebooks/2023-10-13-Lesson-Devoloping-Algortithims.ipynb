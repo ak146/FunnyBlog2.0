{
 "cells": [
  {
   "cell_type": "markdown",
   "metadata": {},
   "source": [
    "---\n",
    "toc: True\n",
    "comments: False\n",
    "layout: post\n",
    "title: Developing Algorithms \n",
    "type: plans\n",
    "courses: {'csp': {'week': 7}}\n",
    "---"
   ]
  },
  {
   "cell_type": "markdown",
   "metadata": {},
   "source": [
    "## What are Algorithims?"
   ]
  },
  {
   "cell_type": "markdown",
   "metadata": {},
   "source": [
    "Whats the difference between these two math problems:\n",
    "(3+1)3 + 89 + 4(2+8)\n",
    "3(1+3) + 8(1+4) + 89\n",
    "\n",
    "Nothing! They are just two different ways of doing them!\n",
    "\n",
    "Whats the difference between these two math problems:\n",
    "3((9-6)+7) + 7 - (9+8)\n",
    "3(9-(6+7)) + 7 - 9 + 8\n",
    "\n",
    "A lot! This changes the output by quite a bit!\n",
    "\n",
    "Here are examples of this basic concept in terms of programming:"
   ]
  },
  {
   "cell_type": "code",
   "execution_count": null,
   "metadata": {},
   "outputs": [],
   "source": [
    "print(\"What is the temperature outside °F?\")\n",
    "temp = int(input())\n",
    "if temp > 85:\n",
    "    print(\"It is too hot outside!\")\n",
    "elif temp >= 65:\n",
    "    print(\"Sure, I will play outside!\")\n",
    "else:\n",
    "    print(\"It is too cold outside!\")"
   ]
  },
  {
   "cell_type": "code",
   "execution_count": null,
   "metadata": {},
   "outputs": [],
   "source": [
    "print(\"What is the temperature outside °F?\")\n",
    "temp = int(input())\n",
    "if temp == 85:\n",
    "    print(\"It is too hot outside!\")\n",
    "if temp == 65:\n",
    "    print(\"Sure, I will play outside!\")\n",
    "if temp < 65:\n",
    "    print(\"It is too cold outside!\")"
   ]
  },
  {
   "cell_type": "markdown",
   "metadata": {},
   "source": [
    "### Didn't get it?  \n",
    "Hint: \n",
    "- What if I input 60 degrees °F?\n",
    "- What if I input 90 degrees °F?\n"
   ]
  },
  {
   "cell_type": "markdown",
   "metadata": {},
   "source": [
    "Hack #1: What is the difference between these two pieces of code? (in terms of their output)"
   ]
  },
  {
   "cell_type": "code",
   "execution_count": 1,
   "metadata": {},
   "outputs": [
    {
     "name": "stdout",
     "output_type": "stream",
     "text": [
      "1 2 3 5 6 7 9 10 11 13 14 15 17 18 19 21 22 23 25 26 27 29 30 31 33 34 35 37 38 39 41 42 43 45 46 47 49 50 51 53 54 55 57 58 59 61 62 63 65 66 67 69 70 71 73 74 75 77 78 79 81 82 83 85 86 87 89 90 91 93 94 95 97 98 99 "
     ]
    }
   ],
   "source": [
    "num = 1\n",
    "while num <= 100:\n",
    "    if num % 4 != 0:\n",
    "        print(num, end=' ')\n",
    "    num += 1"
   ]
  },
  {
   "cell_type": "code",
   "execution_count": 2,
   "metadata": {},
   "outputs": [
    {
     "name": "stdout",
     "output_type": "stream",
     "text": [
      "1\n",
      "2\n",
      "3\n",
      "5\n",
      "6\n",
      "7\n",
      "9\n",
      "10\n",
      "11\n",
      "13\n",
      "14\n",
      "15\n",
      "17\n",
      "18\n",
      "19\n",
      "21\n",
      "22\n",
      "23\n",
      "25\n",
      "26\n",
      "27\n",
      "29\n",
      "30\n",
      "31\n",
      "33\n",
      "34\n",
      "35\n",
      "37\n",
      "38\n",
      "39\n",
      "41\n",
      "42\n",
      "43\n",
      "45\n",
      "46\n",
      "47\n",
      "49\n",
      "50\n",
      "51\n",
      "53\n",
      "54\n",
      "55\n",
      "57\n",
      "58\n",
      "59\n",
      "61\n",
      "62\n",
      "63\n",
      "65\n",
      "66\n",
      "67\n",
      "69\n",
      "70\n",
      "71\n",
      "73\n",
      "74\n",
      "75\n",
      "77\n",
      "78\n",
      "79\n",
      "81\n",
      "82\n",
      "83\n",
      "85\n",
      "86\n",
      "87\n",
      "89\n",
      "90\n",
      "91\n",
      "93\n",
      "94\n",
      "95\n",
      "97\n",
      "98\n",
      "99\n"
     ]
    }
   ],
   "source": [
    "def print_numbers():\n",
    "    for i in range(1, 101):\n",
    "        if i % 4 != 0:\n",
    "            print(i)\n",
    "\n",
    "print_numbers()"
   ]
  },
  {
   "cell_type": "markdown",
   "metadata": {},
   "source": [
    "So when developing algorithms, different pieces of code could do the same thing, and two similar pieces of code could do very different things. "
   ]
  },
  {
   "cell_type": "markdown",
   "metadata": {},
   "source": [
    "# Data Collections\n",
    "\n",
    "### Purpose of Data Collection\n",
    "To gather accurate and relevant information for specific purposes, such as solving problems, making informed decisions, or predicting future trends.\n",
    "\n",
    "### Techniques\n",
    "Surveys and Questionnaires: Structured methods for gathering data from a large number of respondents. They can be administered in-person, online, or through other mediums.\n",
    "\n",
    "Observations: Watching and recording actions or behaviors in a systematic manner.\n",
    "\n",
    "Experiments: Conducting controlled tests or trials to determine cause and effect relationships.\n",
    "\n",
    "Simulations: Using models to imitate real-world situations.\n",
    "\n",
    "Interviews: One-on-one or group discussions to gain in-depth insights.\n",
    "\n",
    "Sensors and Automated Collection: Using electronic devices to automatically collect data, like temperature sensors or traffic cameras.\n",
    "\n",
    "Sampling: Instead of studying an entire population, a subset (or sample) can be studied to make inferences about the entire group.\n",
    "\n",
    "Techniques include random sampling, stratified sampling, and convenience sampling.\n",
    "\n",
    "### Bias and Error\n",
    "Data collection methods can introduce bias or error. It's crucial to be aware of potential sources of bias, like leading questions in surveys or non-random sampling methods.\n",
    "\n",
    "### Privacy and Ethics\n",
    "Always consider the ethical implications of data collection. Obtain consent when necessary, anonymize data to protect individuals' privacy, and be transparent about how data will be used.\n"
   ]
  },
  {
   "cell_type": "markdown",
   "metadata": {},
   "source": [
    "Hack #2:"
   ]
  },
  {
   "cell_type": "code",
   "execution_count": 9,
   "metadata": {},
   "outputs": [
    {
     "name": "stdout",
     "output_type": "stream",
     "text": [
      "89\n",
      "12\n"
     ]
    }
   ],
   "source": [
    "def find_max(numbers):\n",
    "    max_value = numbers[0]\n",
    "    for number in numbers:\n",
    "        if number > max_value:\n",
    "            max_value = number\n",
    "    return max_value\n",
    "\n",
    "numbers = [23, 45, 67, 89, 12, 34, 56, 78]\n",
    "\n",
    "max_value = find_max(numbers)\n",
    "print(max_value)\n",
    "\n"
   ]
  },
  {
   "cell_type": "markdown",
   "metadata": {},
   "source": [
    "List of numbers\n",
    "numbers = [23, 45, 67, 89, 12, 34, 56, 78]\n",
    "\n",
    "TODO: Modify the given algorithm to find the minimum value in the list of numbers.\n",
    "Hint: You only need to change two lines of code."
   ]
  },
  {
   "cell_type": "code",
   "execution_count": 11,
   "metadata": {},
   "outputs": [
    {
     "name": "stdout",
     "output_type": "stream",
     "text": [
      "12\n"
     ]
    }
   ],
   "source": [
    "# Place your code here...\n",
    "def find_min(numbers):\n",
    "    min = numbers[0]\n",
    "    for number in numbers:\n",
    "        if number < min:\n",
    "            min = number\n",
    "    return min\n",
    "#List of numbers\n",
    "min_value= find_min(numbers)\n",
    "print(min_value)\n",
    " "
   ]
  },
  {
   "cell_type": "markdown",
   "metadata": {},
   "source": [
    "Solution:\n",
    "\n",
    "Modified Algorithm to find the minimum value."
   ]
  },
  {
   "cell_type": "code",
   "execution_count": 10,
   "metadata": {},
   "outputs": [
    {
     "name": "stdout",
     "output_type": "stream",
     "text": [
      "12\n"
     ]
    }
   ],
   "source": [
    "def find_min(numbers):\n",
    "    min_value = numbers[0]\n",
    "    for number in numbers:\n",
    "        if number < min_value:\n",
    "            min_value = number\n",
    "    return min_value\n",
    "\n",
    "#alling the function\n",
    "min_value = find_min(numbers)\n",
    "print(min_value)  # Output: 12 "
   ]
  },
  {
   "cell_type": "markdown",
   "metadata": {},
   "source": [
    "# Creating/Modifying Algorithms\n",
    "\n",
    "Important steps for creating an algorithm:\n",
    "- Define functions\n",
    "- Initialize ways to store data (array, lists, dictionaries, etc…)\n",
    "- Depending on the context, use iteration to specify conditions for variable\n",
    "- Output generated values from the algorithm\n",
    "\n",
    "Helpful tips for modifying algorithms:\n",
    "- Understand the algorithm so you're able to easily apply changes to it.\n",
    "- Break the program down into chunks.\n",
    "- Focus on each small part of the algorithm to get it to work.\n",
    "- Make sure to test individual components, and then the whole code together (This makes identifying errors, and correcting mistakes easier).\n",
    "\n",
    "Example (The sum of all even numbers between 1 and a given positive integer):\n"
   ]
  },
  {
   "cell_type": "code",
   "execution_count": 14,
   "metadata": {},
   "outputs": [
    {
     "name": "stdout",
     "output_type": "stream",
     "text": [
      "The sum of even numbers from 1 to 5 is 6\n"
     ]
    }
   ],
   "source": [
    "def sum_of_evens(n):\n",
    "    total = 0\n",
    "    for i in range(2, n + 1, 2): #Note the 2 and the very end initializes a step size of 2 for the function\n",
    "        total += i\n",
    "    return total\n",
    "\n",
    "n = int(input(\"Enter a positive integer: \"))\n",
    "result = sum_of_evens(n)\n",
    "print(f\"The sum of even numbers from 1 to {n} is {result}\")"
   ]
  },
  {
   "cell_type": "markdown",
   "metadata": {},
   "source": [
    "Hack #3:"
   ]
  },
  {
   "cell_type": "markdown",
   "metadata": {},
   "source": [
    "TODO: Adapt the above algorithm to output for the sum of odd numbers between 1 and a given integer. \n",
    "\n",
    "Try to come up with a unique algorithm (way) to achieve the above task."
   ]
  },
  {
   "cell_type": "code",
   "execution_count": 21,
   "metadata": {},
   "outputs": [
    {
     "name": "stdout",
     "output_type": "stream",
     "text": [
      "The sum of odd numbers from 1 to 5 is: 9\n"
     ]
    }
   ],
   "source": [
    "def sum_of_odd_numbers(n):\n",
    "    total = 0\n",
    "\n",
    "    for i in range(1, n + 1):\n",
    "        if i % 2 != 0:  \n",
    "            total += i\n",
    "\n",
    "    return total\n",
    "\n",
    "n = int(input(\"Enter a value for n: \"))\n",
    "result = sum_of_odd_numbers(n)\n",
    "print(f\"The sum of odd numbers from 1 to {n} is: {result}\")"
   ]
  },
  {
   "cell_type": "markdown",
   "metadata": {},
   "source": [
    "Solution:\n",
    "\n",
    "Think about how you would define an odd number, and output the sum of each element."
   ]
  },
  {
   "cell_type": "code",
   "execution_count": null,
   "metadata": {},
   "outputs": [],
   "source": [
    "def sum_of_odd_numbers(n):\n",
    "    total = 0\n",
    "\n",
    "    for i in range(1, n + 1):\n",
    "        if i % 2 != 0:  # Check if the number is odd\n",
    "            total += i\n",
    "\n",
    "    return total\n",
    "\n",
    "n = int(input(\"Enter a value for n: \"))\n",
    "result = sum_of_odd_numbers(n)\n",
    "print(f\"The sum of odd numbers from 1 to {n} is: {result}\")"
   ]
  },
  {
   "cell_type": "markdown",
   "metadata": {},
   "source": [
    "# Random Number Generation\n",
    "\n",
    "RANDOM (a, b) generates a number from a to b inclusive.\n",
    "Each result from the randomization is equally likely to occur.\n",
    "Using random number generation in a program means each execution may produce a different result.\n",
    "We can use the results from randomization to program simulations.\n",
    "\n",
    "What are the possibities for Answ3?\n",
    "Answ1 (0,2) #This means Answ1 can be anywhere from 0 to 2\n",
    "Answ2 (1,5) #This means Answ1 can be anywhere from 1 to 5\n",
    "Answ3 = Answ1 + Answ2\n",
    "\n",
    "﻿The lowest number answ1 will generate is 0 and the lowest number answ2 will generate is 1.\n",
    "Therefore, the lowest number answ3 could be is 1.\n",
    "The highest number answ1 will generate is 2 and the highest number answ2 will generate is 5.\n",
    "Therefore, the highest number answ3 could be is 7."
   ]
  },
  {
   "cell_type": "markdown",
   "metadata": {},
   "source": [
    "Generating Random Values:\n",
    " - In AP CSP, students learn to generate random values using certain code constructs, like the random module in Python which allows for random integer generation between specified values using random.randint(a, b)​1​. This random number generation introduces an element of unpredictability, vital for many programming applications.\n",
    "Application in Simulations:\n",
    "- Random values are crucial in simulations, mimicking real-world unpredictability. They help in creating diverse scenarios in simulations like weather patterns or game dynamics, thus providing a more realistic or varied simulation experience.\n",
    "Evaluating Code Segments:\n",
    "- Utilizing random values can aid in evaluating code segments by testing how code reacts to varied input, which is particularly useful in identifying potential bugs or inefficiencies.\n"
   ]
  },
  {
   "cell_type": "markdown",
   "metadata": {},
   "source": [
    "If you roll a die 3 times, and take the sum of all your rolls, what is the highest possible amount and the lowest possible amount you can get? \n",
    "\n",
    "Roll 1 (1,6)\n",
    "Roll 2 (1,6)\n",
    "Roll 3 (1,6)\n",
    "\n",
    "Lowest: 3\n",
    "Most: 18"
   ]
  },
  {
   "cell_type": "code",
   "execution_count": 22,
   "metadata": {},
   "outputs": [
    {
     "name": "stdout",
     "output_type": "stream",
     "text": [
      "Random value between 1 and 100: 92\n",
      "Dice Roll: 2\n"
     ]
    }
   ],
   "source": [
    "import random\n",
    "\n",
    "def generate_random():\n",
    "    value = random.randint(1, 100)\n",
    "    print(f'Random value between 1 and 100: {value}')\n",
    "\n",
    "    dice_roll = random.randint(1, 6)\n",
    "    print(f'Dice Roll: {dice_roll}')\n",
    "\n",
    "# Call the function\n",
    "generate_random()"
   ]
  },
  {
   "cell_type": "markdown",
   "metadata": {},
   "source": [
    "Hack #4"
   ]
  },
  {
   "cell_type": "markdown",
   "metadata": {},
   "source": [
    "Lets continue the fun...\n",
    "Make an algorithm that assigns 5 days with a random temperatures between 60-90 degrees Fahrenheit! "
   ]
  },
  {
   "cell_type": "code",
   "execution_count": 23,
   "metadata": {},
   "outputs": [
    {
     "name": "stdout",
     "output_type": "stream",
     "text": [
      "Day 1: Temperature: 65°F\n",
      "Day 2: Temperature: 88°F\n",
      "Day 3: Temperature: 77°F\n",
      "Day 4: Temperature: 77°F\n",
      "Day 5: Temperature: 84°F\n"
     ]
    }
   ],
   "source": [
    "import random\n",
    "\n",
    "def simulate_weather():\n",
    "    for day in range(1, 6):\n",
    "        temperature = random.randint(60, 90)\n",
    "        print(f'Day {day}: Temperature: {temperature}°F')\n",
    "\n",
    "# Call the function\n",
    "simulate_weather()"
   ]
  },
  {
   "cell_type": "markdown",
   "metadata": {},
   "source": [
    "Solution: \n",
    "\n",
    "How can you iterate between a range of 5 days, along with generate a random temperature between 60-90?"
   ]
  },
  {
   "cell_type": "code",
   "execution_count": null,
   "metadata": {},
   "outputs": [],
   "source": [
    "import random\n",
    "\n",
    "def simulate_weather():\n",
    "    for day in range(1, 6):\n",
    "        temperature = random.randint(60, 90)\n",
    "        print(f'Day {day}: Temperature: {temperature}°F')\n",
    "\n",
    "# Call the function\n",
    "simulate_weather()"
   ]
  },
  {
   "cell_type": "markdown",
   "metadata": {},
   "source": [
    "# Homework: \n",
    "\n",
    "1. Create a program that follows the Collatz Conjecture. \n",
    "\n",
    "If a number is even, divide by 2.\n",
    "\n",
    "If a number is odd, multiply by 3 and add 1.\n",
    "\n",
    "If implemented correctly this algorithm will eventually go to 1. Try defining the initial number with any number beside 1 to see an interesting ouput. Output the result as a list. You may set a starting value for the list, so that the program can generate the list of numbers created when following the process. \n",
    "\n",
    "Ideas for above 90%:\n",
    "Try implementing user input into this program. Ask the user to enter a number they would like to start with. \n"
   ]
  },
  {
   "cell_type": "code",
   "execution_count": 28,
   "metadata": {},
   "outputs": [
    {
     "name": "stdout",
     "output_type": "stream",
     "text": [
      "The collatze function is 56 is: 29569141266045870352563400936\n"
     ]
    }
   ],
   "source": [
    "# Place your code here...\n",
    "def collatz(n):\n",
    "    \n",
    "    converted = n\n",
    "\n",
    "    for i in range(n):\n",
    "        if n % 2 != 0:  \n",
    "          converted= converted/2\n",
    "        else:\n",
    "          converted= converted*3\n",
    "          converted= converted+1\n",
    "        \n",
    "          \n",
    "\n",
    "    return converted\n",
    "\n",
    "n = int(input(\"Enter a value for n: \"))\n",
    "result = collatz(n)\n",
    "print(f\"The collatze function is {n} is: {result}\")"
   ]
  },
  {
   "cell_type": "markdown",
   "metadata": {},
   "source": [
    "2. Create an algorithm that generates terms to the Fibonacci Sequence which outputs a specific number of terms defined in your code. The sequence starts off like 1, 1, 2, 3, 5, … each following term being the sum of the previous two.\n",
    "\n",
    "Ideas for above 90%:\n",
    "\n",
    "- Add user input\n",
    "- Display error message when an invalid input is specified\n",
    "- Find a way for the program to only specify a specific term in the sequence"
   ]
  },
  {
   "cell_type": "code",
   "execution_count": null,
   "metadata": {},
   "outputs": [],
   "source": [
    "# Place your code here..."
   ]
  },
  {
   "cell_type": "markdown",
   "metadata": {},
   "source": [
    "3. Make a statistics calculator that calculates the mean, median, and mode of a specific series. Do this using iteration and without the use of imported modules (like the statistics one) that allows you to call pre defined functions like mean, median, and mode. Each of these calculations follows an algorithm. \n",
    "\n",
    "Ideas for above 90%:\n",
    "\n",
    "- Randomly generate a list of numbers (you can define it as a list of 5) to apply the calculator to.\n",
    "- If you can, generate a random number of elements in the data set as well (keep it between 5-10 elements). "
   ]
  },
  {
   "cell_type": "code",
   "execution_count": null,
   "metadata": {},
   "outputs": [],
   "source": [
    "# Place your code here..."
   ]
  }
 ],
 "metadata": {
  "kernelspec": {
   "display_name": "Python 3",
   "language": "python",
   "name": "python3"
  },
  "language_info": {
   "codemirror_mode": {
    "name": "ipython",
    "version": 3
   },
   "file_extension": ".py",
   "mimetype": "text/x-python",
   "name": "python",
   "nbconvert_exporter": "python",
   "pygments_lexer": "ipython3",
   "version": "3.11.4"
  },
  "orig_nbformat": 4
 },
 "nbformat": 4,
 "nbformat_minor": 2
}
