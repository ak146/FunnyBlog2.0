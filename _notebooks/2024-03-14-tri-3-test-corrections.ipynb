{
 "cells": [
  {
   "cell_type": "markdown",
   "metadata": {},
   "source": [
    "---\n",
    "toc: true\n",
    "comments: true\n",
    "layout: post\n",
    "title: Tri 3 Test Corrections\n",
    "description:  tri 3 test corrections for the third MCQ\n",
    "courses: { compsci: {week: 13} }\n",
    "type: hacks\n",
    "---"
   ]
  },
  {
   "cell_type": "markdown",
   "metadata": {},
   "source": [
    "## Test Corrections\n",
    "# Score 64/70\n",
    "# 10\n",
    "The player controls in a particular video game are represented by numbers. The controls and their corresponding binary values are shown in the following table.\n",
    "[table](https://ibb.co/MCy6fPB)\n",
    "The numeric values for the controls can also be represented in decimal (base 10).\n",
    "\n",
    "- I chose Option D. \n",
    "- Option D is incorrect. The binary equivalent of 48 is 110000.\n",
    "- Correct Option C\n",
    "- Option C is correct. The binary value 11000 is equal to which is equal to 24.\n",
    "\n"
   ]
  }
 ],
 "metadata": {
  "language_info": {
   "name": "python"
  }
 },
 "nbformat": 4,
 "nbformat_minor": 2
}
