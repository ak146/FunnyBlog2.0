{
 "cells": [
  {
   "cell_type": "raw",
   "metadata": {},
   "source": [
    "---\n",
    "comments: true\n",
    "layout: post\n",
    "title: MCQ 2020 Frequently Missed Questions\n",
    "description: Questions and sample Python code to represent the most frequently missed questions on the 2020 AP Computer Science A Multiple Choice Exam. \n",
    "type: tangibles\n",
    "courses: { csp: {week: 26} }\n",
    "---"
   ]
  },
  {
   "cell_type": "markdown",
   "metadata": {},
   "source": [
    "## 4. Cause of overflow Error (1D, binary math) - Tara Sehdave\n",
    "\n",
    "In a certain computer program, two positive integers are added together, resulting in an overflow error. Which of the following best explains why the error occurs?\n",
    "\n",
    "Responses\n",
    "\n",
    "A\n",
    "The program attempted to perform an operation that is considered an undecidable problem.\n",
    "\n",
    "B\n",
    "The precision of the result is limited due to the constraints of using a floating-point representation.\n",
    "\n",
    "C\n",
    "The program can only use a fixed number of bits to represent integers; the computed sum is greater than the maximum representable value.\n",
    "\n",
    "D\n",
    "The program cannot represent integers; the integers are converted into decimal approximations, leading to rounding errors.\n",
    "\n",
    "The correct answer is C because...\n",
    "\n",
    "- Overflow error occurs in a computer program when adding two positive integers.\n",
    "- The program uses a fixed number of bits to represent integers.\n",
    "- The sum of the two integers exceeds the maximum representable value within the fixed number of bits.\n",
    "- Due to this limitation, the program cannot accurately represent the result of the addition.\n",
    "- As a result, an overflow error is triggered to indicate that the computed sum is beyond the representable range."
   ]
  },
  {
   "cell_type": "code",
   "execution_count": 1,
   "metadata": {},
   "outputs": [
    {
     "name": "stdout",
     "output_type": "stream",
     "text": [
      "Max float: 1.7976931348623157e+308\n",
      "Overflow float to infinity: inf\n"
     ]
    }
   ],
   "source": [
    "# python overflow example\n",
    "# as a popcorn hack (binary challenge), describe an overflow in 8 binary digits\n",
    "# Add 1 to 11111111 (255)\n",
    "# Subtract 1 from 00000000 (0)\n",
    "# Try overflow and underflow here: https://nighthawkcoders.github.io/teacher_portfolio/c4.4/2023/09/14/javascript-binary-U2-1.html\n",
    "\n",
    "import sys\n",
    "\n",
    "# Maximum float\n",
    "max_float = sys.float_info.max\n",
    "print(f\"Max float: {max_float}\")\n",
    "\n",
    "# Attempt to overflow float\n",
    "overflow_float = max_float * 2\n",
    "print(f\"Overflow float to infinity: {overflow_float}\")"
   ]
  },
  {
   "cell_type": "code",
   "execution_count": null,
   "metadata": {},
   "outputs": [],
   "source": [
    "result = (0b11111111 + 0b1) & 0b11111111\n",
    "# 0b11111111 + 0b1 adds 1 to the 8 bit integer 255 (1111 1111). This results in 256 (1 0000 0000)\n",
    "# In order to visualize an overflow error, we limit the integer to 8 bits by anding with 255 (1111 1111).\n",
    "# This retains all information in the 8 bits but removes anything beyond that.\n",
    "print(bin(result))  # Output: 0b00000000 (overflow)\n",
    "\n",
    "result = (0b00000000 - 0b1) & 0b11111111\n",
    "# This similar subtracts 1 from the 0 bit integer 0, resulting in an underflow error\n",
    "# To visualise this underflow error we and with 255 to similarly visualize the underflow error.\n",
    "print(bin(result))  # Output: 0b11111111 (underflow)\n",
    "\n",
    "# Overflow error occurs because 255 + 1 is 256, which is a 1 followed by 8 zeros, but since only the 8 zeros are kept, since there is only available space for 8 digits."
   ]
  },
  {
   "cell_type": "markdown",
   "metadata": {},
   "source": [
    "## 5. Inputs to Logic Circuit (2D, binary logic) - Hanlun Li\n",
    "\n",
    "The diagram below shows a circuit composed of three logic gates. Each gate takes two inputs and produces a single output. For which of the following input values will the circuit have an output of true ?\n",
    "\n"
   ]
  },
  {
   "cell_type": "markdown",
   "metadata": {},
   "source": [
    "The diagram in question shows a circuit composed of three logic gates. Each gate takes two inputs and produces a single output. <br>\n",
    "AND(OR(A, B), AND(C, D))\n",
    "\n",
    "For which of the following input values will the circuit have an output of true ? <br>\n",
    "\n",
    "A) A = true,  B = true,  C = true,  D = false <br>\n",
    "B) A = true,  B = false, C = false, D = true <br>\n",
    "C) A = false, B = true,  C = true,  D = true <br>\n",
    "D) A = false, B = false, C = true,  D = true <br>\n",
    "\n",
    "A OR B = True, C AND D = True, and since True AND True = True, C is correct. <br>\n",
    "OR gate only returns true if one of the values is true, and the AND gate returns true if both values are true. "
   ]
  },
  {
   "cell_type": "code",
   "execution_count": 1,
   "metadata": {},
   "outputs": [
    {
     "name": "stdout",
     "output_type": "stream",
     "text": [
      "A B C D --> Output\n",
      "False False False False --> False\n",
      "False False False True --> False\n",
      "False False True False --> False\n",
      "False False True True --> True\n",
      "False True False False --> True\n",
      "False True False True --> True\n",
      "False True True False --> True\n",
      "False True True True --> False\n",
      "True False False False --> True\n",
      "True False False True --> True\n",
      "True False True False --> True\n",
      "True False True True --> False\n",
      "True True False False --> True\n",
      "True True False True --> True\n",
      "True True True False --> True\n",
      "True True True True --> False\n"
     ]
    }
   ],
   "source": [
    "# represent gates and circuits\n",
    "# as a popcorn hack (coding challenge), create multiple new circuits and gates\n",
    "# NOT, NAND, NOR, XOR, XNOR\n",
    "# Create a hypothetical circuit, such as burglar alarm, decision tree for autonomous car, etc.\n",
    "\n",
    "# OR gate\n",
    "def OR_gate(A, B):\n",
    "    return A or B\n",
    "\n",
    "# AND gate\n",
    "def AND_gate(A, B):\n",
    "    return A and B\n",
    "\n",
    "# NOR gate\n",
    "def NOR_gate(A, B):\n",
    "    return not (A or B)\n",
    "\n",
    "# NAND gate\n",
    "def NAND_gate(A, B):\n",
    "    return not (A and B)\n",
    "\n",
    "# XOR gate\n",
    "def XOR_gate(A, B):\n",
    "    return A ^ B\n",
    "\n",
    "# XNOR gate\n",
    "def XNOR_gate(A, B):\n",
    "    return not (A ^ B)\n",
    "\n",
    "# Theoritical circuit representing a Car starting\n",
    "# A and B could be security checks, such as key being inserted or a fob being present\n",
    "# C and D could be operational checks, such as a start button being pressed and safety belt being fastened\n",
    "# The enclosing AND gate ensures car only operates when both security and operational checks are met\n",
    "def circuit(A, B, C, D):\n",
    "    return XOR_gate(NOR_gate(A, B), NAND_gate(C, D))\n",
    "\n",
    "## example of real life:\n",
    "def check_password(L, U, P, S):\n",
    "    ## check length of password\n",
    "    length = true if L > 7 else False\n",
    "    ## other three U (unique or not), P (uppercase letter), and S (special character) are already booleans\n",
    "    return AND_gate(AND_gate(length, U), OR_gate(P, S))\n",
    "    \n",
    "\n",
    "# Print truth table for circuit\n",
    "print('A', 'B', 'C', 'D', \"-->\", 'Output')\n",
    "# nesting of loops for both the True, False combination of A, B, C, D \n",
    "# this algorithm is 2 ^ 4 = 16, thus producing all 16 combinations \n",
    "# each combination terminates with the output of the circuit\n",
    "for A in [False, True]:\n",
    "    for B in [False, True]:\n",
    "        for C in [False, True]:\n",
    "            for D in [False, True]:\n",
    "                print(A, B, C, D, \"-->\", circuit(A, B, C, D))"
   ]
  },
  {
   "cell_type": "markdown",
   "metadata": {},
   "source": [
    "## 11. Color represented by binary Triplet (2D, binary) - Torin Wolff\n",
    "\n",
    "A color in a computing application is represented by an RGB triplet that describes the amount of red, green, and blue, respectively, used to create the desired color. A selection of colors and their corresponding RGB triplets are shown in the following table. Each value is represented in decimal (base 10).\n",
    "\n",
    "According to information in the table, what color is represented by the binary RGB triplet (11111111, 11111111, 11110000) ?\n",
    "\n",
    "#### What is a binary triplet?\n",
    "A binary triplet is a set of three binary numbers. Binary numbers are numbers that are represented by a series of 1's and 0's. Binary numbers are used in computers because they are easy to represent with electrical signals. A binary triplet is a set of three binary numbers that are used to represent a color. The first number represents the amount of red in the color, the second number represents the amount of green in the color, and the third number represents the amount of blue in the color. The numbers are represented in binary because it is easy to represent with electrical signals. The numbers are represented in a triplet because it is easy to represent with electrical signals.\n",
    "\n",
    "#### How is a color in binary represented?\n",
    "A color in binary is represented by a set of three binary numbers. The first number represents the amount of red in the color, the second number represents the amount of green in the color, and the third number represents the amount of blue in the color. The numbers are represented in binary because it is easy to represent with electrical signals. The numbers are represented in a triplet because it is easy to represent with electrical signals. An example of this would be: (01101110, 11111111, 10010110), if you converted this binary triplet to a decimal number it would be 110, 255, 150. This would be a shade of the color green.\n",
    "\n",
    "#### How do you convert a binary triplet to a decimal number?\n",
    "To convert a binary string to a decimal number you need to multiply each digit by its place value. For example, if you have the binary string 1010 you would multiply the first digit by 2^3, the second digit by 2^2, the third digit by 2^1, and the fourth digit by 2^0. This would give you the decimal number 10. To convert a binary triplet to a decimal number you need to multiply each digit by its place value. For example, if you have the binary triplet (01101110, 11111111, 10010110) you would multiply the first digit by 2^7, the second digit by 2^6, the third digit by 2^5, the fourth digit by 2^4, the fifth digit by 2^3, the sixth digit by 2^2, the seventh digit by 2^1, and the eighth digit by 2^0. This would give you the decimal number 110, 255, 150.\n",
    "\n",
    "(0 * 2^7) + (1 * 2^6) + (1 * 2^5) + (0 * 2^4) + (1 * 2^3) + (1 * 2^2) + (1 * 2^1) + (0 * 2^0)\n",
    "\n",
    "= 0 + 64 + 32 + 0 + 8 + 4 + 2 + 0\n",
    "\n",
    "= 110\n",
    "\n",
    "(insert photo)\n",
    "\n",
    "\n"
   ]
  },
  {
   "cell_type": "code",
   "execution_count": 1,
   "metadata": {},
   "outputs": [
    {
     "name": "stdout",
     "output_type": "stream",
     "text": [
      "binary: 11111111 11111111 11110000\n",
      "decimal 255 255 240\n",
      "proportion 1.0 1.0 0.9411764705882353\n"
     ]
    },
    {
     "data": {
      "image/png": "[encoded data removed]",
      "text/plain": [
       "<Figure size 200x200 with 1 Axes>"
      ]
     },
     "metadata": {},
     "output_type": "display_data"
    },
    {
     "name": "stdout",
     "output_type": "stream",
     "text": [
      "binary: 11111111 00000000 11111111\n",
      "decimal 255 0 255\n",
      "proportion 1.0 0.0 1.0\n",
      "binary: 11111111 10011101 00111000\n",
      "decimal 255 157 56\n",
      "proportion 1.0 0.615686274509804 0.2196078431372549\n",
      "binary: 00100100 10011000 11001101\n",
      "decimal 36 152 205\n",
      "proportion 0.1411764705882353 0.596078431372549 0.803921568627451\n"
     ]
    },
    {
     "data": {
      "image/png": "[encoded data removed]",
      "text/plain": [
       "<Figure size 600x200 with 3 Axes>"
      ]
     },
     "metadata": {},
     "output_type": "display_data"
    }
   ],
   "source": [
    "# Convert binary RGB triplet to decimal\n",
    "# as a hack (binary challenge), make the rgb standard colors\n",
    "# as a 2nd hack, make your favorite color pattern \n",
    "\n",
    "import matplotlib.pyplot as plt\n",
    "import matplotlib.patches as patches\n",
    "\n",
    "# Function to convert binary to decimal\n",
    "def binary_to_decimal(binary):\n",
    "    return int(binary, 2)\n",
    "\n",
    "def plot_colors(rgb_triplets):\n",
    "    # Create a figure with one subplot per RGB triplet\n",
    "    fig, axs = plt.subplots(1, len(rgb_triplets), figsize=(2 * len(rgb_triplets), 2))\n",
    "    \n",
    "    # Ensure axs is always a list\n",
    "    axs = axs if len(rgb_triplets) > 1 else [axs]\n",
    "\n",
    "    for ax, (red_binary, green_binary, blue_binary) in zip(axs, rgb_triplets):\n",
    "        # Convert to binary strings to decimal\n",
    "        red_decimal = binary_to_decimal(red_binary)\n",
    "        green_decimal = binary_to_decimal(green_binary)\n",
    "        blue_decimal = binary_to_decimal(blue_binary)\n",
    "\n",
    "        # Normalize number to [0, 1] range, as it is expected by matplotlib \n",
    "        red, green, blue = red_decimal/255, green_decimal/255, blue_decimal/255\n",
    "\n",
    "        # Define a rectangle patch with the binary RGB triplet color and a black border\n",
    "        rect = patches.Rectangle((0, 0), 1, 1, facecolor=(red, green, blue), edgecolor='black', linewidth=2)\n",
    "        \n",
    "        # Add the rectangle to the plot which shows the color \n",
    "        ax.add_patch(rect)\n",
    "\n",
    "        # Remove axis information, we just want to see the color\n",
    "        ax.axis('off')\n",
    "\n",
    "        # Print the binary and decimal values\n",
    "        print(\"binary:\", red_binary, green_binary, blue_binary)    \n",
    "        print(\"decimal\", red_decimal, green_decimal, blue_decimal)\n",
    "        print(\"proportion\", red, green, blue)\n",
    "\n",
    "    # Show the colors\n",
    "    plt.show()\n",
    "\n",
    "# Test the function with a list of RGB triplets\n",
    "rgb_triplet = [('11111111', '11111111', '11110000')] # College Board example\n",
    "plot_colors(rgb_triplet)\n",
    "\n",
    "rgb_primary = [('11111111', '00000000', '11111111'), \n",
    "                ('11111111', '10011101', '00111000'),\n",
    "                ('00100100', '10011000', '11001101')]\n",
    "plot_colors(rgb_primary)"
   ]
  },
  {
   "cell_type": "markdown",
   "metadata": {},
   "source": [
    "## 50. Reasonable time algorithms (1D, Big O) - Vance Reynolds \n",
    "\n",
    "Consider the following algorithms. Each algorithm operates on a list containing n elements, where n is a very large integer.\n",
    "\n",
    "- An algorithm that accesses each element in the list twice\n",
    "- An algorithm that accesses each element in the list n times\n",
    "- An algorithm that accesses only the first 10 elements in the list, regardless of the size of the list\n",
    "\n",
    "\n",
    "Which of the algorithms run in reasonable time?\n",
    "Answer D is correct because in order for an algorithm to run in reasonable time, it must take a number of steps less than or equal to a polynomial function.\n",
    " \n",
    "- Algorithm I accesses elements times (twice for each of n elements), which is considered in time. \n",
    "- Algorithm II accesses elements (n times for each of n elements), which is in reasonable time. \n",
    "- Algorithm III accesses 10 elements, which is in reasonable time.\n",
    "\n",
    "Simple Explainations:\n",
    "\n",
    "Unreasonable time: Algorithms with exponential or factorial efficiencies are examples of algorithms that run in an unreasonable amount of time.\n",
    "\n",
    "Reasonable time: Algorithms with a polynomial efficiency or lower (constant, linear, square, cube, etc.) are said to run in a reasonable amount of time."
   ]
  },
  {
   "cell_type": "code",
   "execution_count": 1,
   "metadata": {},
   "outputs": [
    {
     "name": "stdout",
     "output_type": "stream",
     "text": [
      "Algorithm 2 * N took 0.08 milliseconds\n",
      "Algorithm N^2 took 0.42 milliseconds\n",
      "Algorithm 10 times took 0.06 milliseconds\n",
      "Algorithm N^3 took 14.70 milliseconds\n"
     ]
    }
   ],
   "source": [
    "# Big O notation example algorithms\n",
    "# as a popcorn hack (coding challenge), scale list of size by factor of 10 and measure the times\n",
    "# what do you think about college board's notion of reasonable time for an algorithm?\n",
    "# as a 2nd hack, create a slow algorithm and measure its time, which are considered slow algorithms... \n",
    "#   O(n^3) which is three nested loops \n",
    "#   O(2^n) which is a recursive algorithm with two recursive calls\n",
    "\n",
    "import time\n",
    "import sys\n",
    "# O(n) Algorithm that accesses each element in the list twice, 2 * n times \n",
    "def algorithm_2n(lst):\n",
    "    for i in lst:\n",
    "        pass\n",
    "    for i in lst:\n",
    "        pass\n",
    "\n",
    "# O(n^2) Algorithm that accesses each element in the list n times, n * n times\n",
    "def algorithm_nSquared(lst):\n",
    "    for i in lst:\n",
    "        for j in lst:\n",
    "            pass\n",
    "\n",
    "# O(1) Algorithm that accesses only the first 10 elements in the list, 10 * 1 is constant \n",
    "def algorithm_10times(lst):\n",
    "    for i in lst[:10]:\n",
    "        pass\n",
    "\n",
    "def algorithm_nCubed(st):\n",
    "    for i in st:\n",
    "        for j in st:\n",
    "            for k in st:\n",
    "                pass\n",
    "\n",
    "def exponential(n):\n",
    "        exponential(n[:-1])\n",
    "        exponential(n[:-1])\n",
    "        pass\n",
    "\n",
    "# Create a large list\n",
    "n = 100\n",
    "lst = list(range(n))\n",
    "sys.setrecursionlimit(100000)\n",
    "\n",
    "# Measure the time taken by algorithm1\n",
    "start = time.time()\n",
    "algorithm_2n(lst)\n",
    "end = time.time()\n",
    "print(f\"Algorithm 2 * N took {(end - start)*1000:.2f} milliseconds\")\n",
    "\n",
    "# Measure the time taken by algorithm2\n",
    "start = time.time()\n",
    "algorithm_nSquared(lst)\n",
    "end = time.time()\n",
    "print(f\"Algorithm N^2 took {(end - start)*1000:.2f} milliseconds\")\n",
    "\n",
    "# Measure the time taken by algorithm3\n",
    "start = time.time()\n",
    "algorithm_10times(lst)\n",
    "end = time.time()\n",
    "print(f\"Algorithm 10 times took {(end - start)*1000:.2f} milliseconds\")\n",
    "\n",
    "# nCubed\n",
    "start = time.time()\n",
    "algorithm_nCubed(lst)\n",
    "end = time.time()\n",
    "print(f\"Algorithm N^3 took {(end - start)*1000:.2f} milliseconds\")\n",
    "\n",
    "# nExponential, takes so long it crashes even at a small number\n",
    "# start = time.time()\n",
    "# exponential(lst)\n",
    "# end = time.time()\n",
    "# print(f\"Algorithm 2^N took {(end - start)*1000:.2f} milliseconds\")"
   ]
  },
  {
   "cell_type": "markdown",
   "metadata": {},
   "source": [
    "## 56. Compare execution times of two version (1D analysis) - Kayden Le\n",
    "\n",
    "An online game collects data about each player’s performance in the game. A program is used to analyze the data to make predictions about how players will perform in a new version of the game.\n",
    "\n",
    "The procedure GetPrediction (idNum) returns a predicted score for the player with ID number idNum. Assume that all predicted scores are positive. The GetPrediction procedure takes approximately 1 minute to return a result. All other operations happen nearly instantaneously.\n",
    "\n",
    "Two versions of the program are shown below.\n",
    "\n",
    "Which of the following best compares the execution times of the two versions of the program?\n",
    "\n",
    "Version I calls the GetPrediction procedure once for each element of idList, or four times total. Since each call requires 1 minute of execution time, version I requires approximately 4 minutes to execute. Version II calls the GetPrediction procedure twice for each element of idList, and then again in the final display statement. This results in the procedure being called nine times, requiring approximately 9 minutes of execution time.\n",
    "\n",
    "Both versions aim to achieve the same result, which is to find and display the highest predicted score among the players in idList. However, Version I directly updates the highest score (topScore), while Version II updates the ID of the player with the highest score (topID) and then retrieves the predicted score for that player. Version II essentially avoids calling GetPrediction multiple times for the same ID.\n",
    "\n",
    "The answer: D - Version II requires approximately 5 more minutes to execute than version I\n"
   ]
  },
  {
   "cell_type": "code",
   "execution_count": 2,
   "metadata": {},
   "outputs": [
    {
     "name": "stdout",
     "output_type": "stream",
     "text": [
      "24157817\n",
      "Slow Fibonacci took 6.50 simulated seconds\n",
      "291822482420491383023640722369851320223096265571182877461713873515662445807918312889571855821855443057170018915544140673813139288992006519445420511522501871839129697256085064947056503909529854158932872201875201399667128848417938314849451512802519608086882325973494186047943825115976917118393747504392653368245937172941708303615511146935651190005282029885911226536421189857229602343636615695140578412064630184957031169425874381333306782199854518478703841243438559001961942476419716049431461398852068937496532702484782377830430826364213278925308508324548001557934936077715514003588518801124904399346785982147238302911095788047085464245153506338016606869623553997201937064220291622262717935478025996550369392041093778032074384777894575577730784603840997734212200063565793584625139684812761944262176275894005530397852274226740655837551277936672171617001321643902022543217117598529992970057551787943572171175262896613570929057258741106916372769543386513808605761180117908598498291361651232480538443534644654670726403907179033403137082918197548872138930407712383444587069543878099029827149351809059228918890195150384534077018404146215681472025875766068729891987655254387174101578844808330116467762851448877551666381233277937168228261933825327063991083857110325908301124913866766410407664110857341740006694083885057251407118017956908937617974357670780833995973404755793454757776213733933029325002162671790383725810839223584319727751444653619212527722891833631252126032466161374535014881501151749654706541818597978747418538032722002387577920489415566750682533898528506816103770475941974258377364464028425400330064280519208784541012452161205695725205041539841970590789521162391228925401795412007542598085259331162119721670589149176624709160010542989389222845796197446399950310050433418993561165953330953890003973920583345715846005717958242843226091661882659750717437634079361927711565054620110900859791636070975947216677546937719120729784085519260932298476005771546795769572874895866055415216307971471417092972554541855505020004439200930435915484847842032966882300127147403897272623099204582004595855388008043208297987914915116669232439687141874091429449369803550137870515211430996672030442878917572368229803748388547623511882793891824184310125594622681166495348957518944579596891586338978004451701726457285040154971265350898519194486525672226125702900165135675283777194258607147558727730735917052683469304395667759708808549114652270141375757746104161123946766798505252272809475428608094228095982727180568782673409167756185330034888406210901420617854377956953894417451404316156563779507774067824149279372027410313468586412958654870462174116992864773003643628242809835583529038699017950482636291373580733702623336843189654244749920987627356390455941019925558579489437021325631214072903083225239344023351966531835713254402702444405165631589535469628719114302631638580677411935571507343153437251699725486090759357166647574912872185956444977488361348357624590401512055582842699604622014302583314067673695981346203233466378796897692478813098509881242360797278617948316663931666162574107570737272044374680294118782065306140908611007655976683548980000\n",
      "Fast Fibonacci took 0.01 simulated seconds\n"
     ]
    }
   ],
   "source": [
    "import time\n",
    "import sys\n",
    "\n",
    "def SlowFibonacci(n):\n",
    "    if n <= 1:\n",
    "        result = n\n",
    "    else:\n",
    "        result = SlowFibonacci(n - 1) + SlowFibonacci(n - 2)\n",
    "    return result\n",
    "\n",
    "def FastFibonacci(n, memo={}):\n",
    "    if n in memo:\n",
    "        result = memo[n]\n",
    "    elif n <= 1:\n",
    "        result = n\n",
    "    else:\n",
    "        memo[n] = FastFibonacci(n-1, memo) + FastFibonacci(n-2, memo)\n",
    "        result = memo[n]\n",
    "    return result\n",
    "\n",
    "sys.setrecursionlimit(100000)\n",
    "start = time.time()\n",
    "# near upper limit of what is possible\n",
    "print(SlowFibonacci(37))\n",
    "end = time.time()  # End timer\n",
    "print(f\"Slow Fibonacci took {end - start:.2f} simulated seconds\")  # Print the time taken\n",
    "start = time.time()\n",
    "# limited by kernel and length, not by time\n",
    "print(FastFibonacci(15000))\n",
    "end = time.time()  # End timer\n",
    "print(f\"Fast Fibonacci took {end - start:.2f} simulated seconds\")  # Print the time taken\n"
   ]
  },
  {
   "cell_type": "markdown",
   "metadata": {},
   "source": [
    "## 64. Error with multiplication using repeated addition (4C algorithms and programs) - Abdullah Khanani\n",
    "\n",
    "The following procedure is intended to return the value of x times y, where x and y are integers. Multiplication is implemented using repeated additions.\n",
    "\n",
    "For which of the following procedure calls does the procedure NOT return the intended value?\n",
    "\n",
    "Select two answers."
   ]
  },
  {
   "cell_type": "markdown",
   "metadata": {},
   "source": [
    "### Question 64\n",
    "\n",
    "PROCEDURE Multiply [x,y]\n",
    "    count <-- 0\n",
    "    result <-- 0\n",
    "    REPEAT UNTIL [count ≥ y]\n",
    "        result <-- result + x\n",
    "        count <-- count + 1\n",
    "    RETURN result\n",
    "\n",
    "### Question\n",
    "\n",
    "#### For which of the following procedure calls does the procedure NOT return the intended value? Select two answers.\n",
    "\n",
    "### Options\n",
    "\n",
    "A. Multiply 2,5\n",
    "B. Multiply 2,-5\n",
    "C. Multiply -2,5\n",
    "D. Multiply -2,-5\n",
    "\n",
    "### Answered\n",
    "\n",
    "A and C\n",
    "\n",
    "### Correct Answer\n",
    "\n",
    "B and D\n",
    "\n",
    "### Explanation\n",
    "\n",
    "For procedures A, the procedure repeatedly adds 2 to result five times, resulting in the intended product 10. Vice versa for C. IF you want to return the result and get a correct answer, multiplying 2,-5 and -2,-5 will give you the wanted result. The following procedure is intended to return the value of x times y, where x and y are integers. Multiplication is implemented using repeated additions. A and C fit these requirements."
   ]
  },
  {
   "cell_type": "code",
   "execution_count": 9,
   "metadata": {},
   "outputs": [
    {
     "name": "stdout",
     "output_type": "stream",
     "text": [
      "10\n",
      "-10\n",
      "-10\n",
      "10\n"
     ]
    }
   ],
   "source": [
    "# flawed multiply function\n",
    "# as a popcorn hack (coding challenge), fix the multiply function to work with negative numbers\n",
    "\n",
    "'''\n",
    "As you can see, the function fails when y is negative,\n",
    "because the while loop condition count < y is never true in these cases.\n",
    "'''\n",
    "\n",
    "def multiply(x, y):\n",
    "    count = 0\n",
    "    result = 0\n",
    "    # abs function to always count in positive direction\n",
    "    while count < abs(y):\n",
    "        result += x\n",
    "        count += 1\n",
    "        # since negative was dropped if negave, we need to another check below\n",
    "    return result if y > 0 else result * -1\n",
    "\n",
    "# Test cases\n",
    "print(multiply(2, 5))  # Expected output: 10\n",
    "print(multiply(2, -5))  # Expected output: -10, Actual output: 0\n",
    "print(multiply(-2, 5))  # Expected output: -10\n",
    "print(multiply(-2, -5))  # Expected output: 10, Actual output: 0"
   ]
  },
  {
   "cell_type": "markdown",
   "metadata": {},
   "source": [
    "## 65. Call to concat and substring (4B string operations) - Ameer Hussain\n",
    "\n",
    "A program contains the following procedures for string manipulation.\n",
    "\n",
    "Which of the following can be used to store the string \"jackalope\" in the string variable animal ?\n",
    "\n",
    "Select two answers."
   ]
  },
  {
   "cell_type": "markdown",
   "metadata": {},
   "source": [
    "### Correct Answer C:\n",
    "animal ← Substring(“jackrabbit”, 1, 4) extracts “jack” from “jackrabbit”. animal ← Concat(animal, “a”) appends “a” to “jack”, resulting in “jacka”. animal ← Concat(animal, Substring(“antelope”, 5, 4)) extracts “lope” from “antelope” and appends it to “jacka”, resulting in “jackalope”.\n",
    "\n",
    "### Incorrect Answer D:\n",
    "animal ← Substring(“jackrabbit”, 1, 4) extracts “jack” from “jackrabbit”. animal ← Concat(animal, “a”) appends “a” to “jack”, resulting in “jacka”. animal ← Concat(Substring(“antelope”, 5, 4), animal) is slightly misleading because it extracts “lope” from “antelope” and should prepend it to “jacka”, but this is incorrect because it would result in “lopejacka”. the operations in Answer D would not result in “jackalope”.\n",
    "\n",
    "animal ← Substring(“antelope”, 5, 4) would assign the substring “lope” from “antelope” to the variable animal. animal ← Concat(“a”, animal) would then prepend “a” to “lope”, resulting in “alope”. animal ← Concat(Substring(“jackrabbit”, 1, 4), animal) would take the substring “jack” from “jackrabbit” and then concatenate it with “alope” resulting in “jackalope”.\n",
    "\n",
    "The process outlined in Answer B does indeed result in the string “jackalope”, with the first step isolating “lope” from “antelope”, the second step creating the string “alope” by prepending “a” to “lope”, and the final step creating the correct string by prepending “jack” to “alope”.\n",
    "\n",
    "animal ← Substring(“antelope”, 5, 4) would assign the substring “lope” from “antelope” to the variable animal. animal ← Concat(“a”, animal) would then prepend “a” to “lope”, resulting in “alope”. animal ← Concat(Substring(“jackrabbit”, 1, 4), animal) would take the substring “jack” from “jackrabbit” and then concatenate it with “alope” resulting in “jackalope”.\n",
    "\n",
    "The process outlined in Answer B does indeed result in the string “jackalope”, with the first step isolating “lope” from “antelope”, the second step creating the string “alope” by prepending “a” to “lope”, and the final step creating the correct string by prepending “jack” to “alope”."
   ]
  },
  {
   "cell_type": "code",
   "execution_count": 8,
   "metadata": {},
   "outputs": [
    {
     "name": "stdout",
     "output_type": "stream",
     "text": [
      "jacklopea\n",
      "jackalope\n",
      "jackalope\n",
      "lopejacka\n"
     ]
    }
   ],
   "source": [
    "animal = \"antelope\"[4:9]\n",
    "animal += \"a\"\n",
    "animal = \"jackrabbit\"[0:4] + animal\n",
    "print(animal)\n",
    "# a in wrong spot\n",
    "\n",
    "animal = \"antelope\"[4:9]\n",
    "animal = \"a\" + animal\n",
    "animal = \"jackrabbit\"[0:4] + animal\n",
    "print(animal)\n",
    "# outputs correct answer\n",
    "\n",
    "animal = \"jackrabbit\"[0:4]\n",
    "animal += \"a\"\n",
    "animal = animal + \"antelope\"[4:9]\n",
    "print(animal)\n",
    "# ouputs currect answer\n",
    "\n",
    "# Incorrect Answer D\n",
    "# as a popcorn hack (binary challenge), create string and concatenation options for A, B, C\n",
    " \n",
    "animal = \"jackrabbit\"[0:4]  # Substring(\"jackrabbit\", 1, 4)\n",
    "animal += \"a\"  # Concat(animal, \"a\")\n",
    "animal = \"antelope\"[4:8] + animal  # Concat(Substring(\"antelope\", 5, 4), animal)\n",
    "print(animal)  # Outputs: lopejacka"
   ]
  }
 ],
 "metadata": {
  "kernelspec": {
   "display_name": "Python 3",
   "language": "python",
   "name": "python3"
  },
  "language_info": {
   "codemirror_mode": {
    "name": "ipython",
    "version": 3
   },
   "file_extension": ".py",
   "mimetype": "text/x-python",
   "name": "python",
   "nbconvert_exporter": "python",
   "pygments_lexer": "ipython3",
   "version": "3.12.2"
  },
  "orig_nbformat": 4
 },
 "nbformat": 4,
 "nbformat_minor": 2
}
