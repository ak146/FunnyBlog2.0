{
 "cells": [
  {
   "cell_type": "markdown",
   "metadata": {},
   "source": [
    "---\n",
    "toc: true\n",
    "comments: false\n",
    "layout: post\n",
    "title: Data Abstraction\n",
    "type: hacks\n",
    "courses: { csp: {week: 7} }\n",
    "---"
   ]
  },
  {
   "cell_type": "markdown",
   "metadata": {},
   "source": [
    "# Variables \n",
    "\n",
    "A Variable is defined as an abstraction inside of a program that can hold a value.\n",
    "\n",
    "Variables can be named from letters like X, Y, Z to phrases like APIKEY.  The point of these names is to store some sort of Data to a resuable value.\n",
    "\n",
    "```python\n",
    "x = 10\n",
    "name = \"Gerald\"\n",
    "fav_food = \"Cookies\"\n",
    "```"
   ]
  },
  {
   "cell_type": "markdown",
   "metadata": {},
   "source": [
    "<hr style=\"solid\">\n",
    "\n",
    "## Variable Naming\n",
    "\n",
    "This brings us to the topic of naming Variables. The names of variables are really important when working in groups. For example when one of your teammates review your code they use the names of your variables to quickly understand your code. In the code above you can understand that the variable fav_food represents a favorite food\n",
    "\n",
    "There are 3 Important Coding Practices to follow when it comes to naming variables\n",
    "\n",
    "### SnakeCase\n",
    "\n",
    "SnakeCase is where you replace spaces in variable names with a underscore\n",
    "\n",
    "```python\n",
    "    variable_one = \"Aashray\"\n",
    "```\n",
    "Here's an example of a SnakeCase variable that uses a _ as a space. \n",
    "\n",
    "Now try making your own SnakeCase variable and set the variable equal to a integer. \n",
    "\n",
    "### PascalCase\n",
    "\n",
    "PascalCase is where you capitialize every word in your variable, but keep it all as one singluar phrase with no spaces\n",
    "\n",
    "```python\n",
    "    VariableOne = \"Chrissie\"\n",
    "```\n",
    "\n",
    "Here you can clearly see that the vairable has two diffrent words, and we didn't need to use a space to seperate it. \n",
    "\n",
    "Try making your own PascalCase variable\n",
    "\n",
    "### CamelCase\n",
    "\n",
    "CamelCase is where you captalize the second word in the variable\n",
    "\n",
    "```python\n",
    "    variableOne = \"Arushi\"\n",
    "```\n",
    "\n",
    "Here the One is captalized to indicate a second word in the variable without using a space.\n",
    "\n",
    "Try making your own CamelCase\n",
    "\n"
   ]
  },
  {
   "cell_type": "code",
   "execution_count": 4,
   "metadata": {},
   "outputs": [
    {
     "ename": "TypeError",
     "evalue": "unsupported operand type(s) for +: 'int' and 'str'",
     "output_type": "error",
     "traceback": [
      "\u001b[0;31m---------------------------------------------------------------------------\u001b[0m",
      "\u001b[0;31mTypeError\u001b[0m                                 Traceback (most recent call last)",
      "\u001b[1;32m/Users/shubhay/vscode/student/_notebooks/2023-10-03-Data_AbstractionLEsson.ipynb Cell 8\u001b[0m line \u001b[0;36m6\n\u001b[1;32m      <a href='vscode-notebook-cell:/Users/shubhay/vscode/student/_notebooks/2023-10-03-Data_AbstractionLEsson.ipynb#X12sZmlsZQ%3D%3D?line=2'>3</a>\u001b[0m my_string \u001b[39m=\u001b[39m \u001b[39m\"\u001b[39m\u001b[39mHello\u001b[39m\u001b[39m\"\u001b[39m\n\u001b[1;32m      <a href='vscode-notebook-cell:/Users/shubhay/vscode/student/_notebooks/2023-10-03-Data_AbstractionLEsson.ipynb#X12sZmlsZQ%3D%3D?line=4'>5</a>\u001b[0m \u001b[39m# Try to add them together\u001b[39;00m\n\u001b[0;32m----> <a href='vscode-notebook-cell:/Users/shubhay/vscode/student/_notebooks/2023-10-03-Data_AbstractionLEsson.ipynb#X12sZmlsZQ%3D%3D?line=5'>6</a>\u001b[0m result \u001b[39m=\u001b[39m my_integer \u001b[39m+\u001b[39;49m my_string\n",
      "\u001b[0;31mTypeError\u001b[0m: unsupported operand type(s) for +: 'int' and 'str'"
     ]
    }
   ],
   "source": [
    "# Attempt to add an integer and a string\n",
    "myInteger = 42\n",
    "myString = \"Hello\"\n",
    "\n",
    "# Try to add them together\n",
    "result = myInteger + myString\n"
   ]
  },
  {
   "cell_type": "markdown",
   "metadata": {},
   "source": [
    "<hr style=\"solid\">\n",
    "\n",
    "## Variable Types\n",
    "\n",
    "Earlier we explained how to assign variables and properly name them. However in the code above even though I followed all these steps and properly named them I ran into a error.\n",
    "This is because the types of data, string and int cannot be added. But what are integers and strings?\n",
    "\n",
    "In python there are multiple types of data that a variable can be, for now lets look at the most commonly use ones.\n",
    "\n",
    "### Integers\n",
    "\n",
    "Integers are a numerical value going from 1,2,3,4 or -1,2,-3 etc. These are numbers with no decimals and are ussualy called ints\n",
    "\n",
    "```python\n",
    "    int x = 3\n",
    "\n",
    "    print(x)\n",
    "```\n",
    "\n",
    "In this case we call int x to be 3. Normally you don't need to say the data type before the variable in python, however in other languages like JS or C++ you would need to. \n",
    "\n",
    "### Strings\n",
    "\n",
    "Strings are a chain of text, numbers or charcters that are all inside of \" \"\n",
    "\n",
    "```python\n",
    "    str Cookies = \" My Fav cookies are Choclate Chip \"\n",
    "```\n",
    "\n",
    "Here we set a string cookie to be representing the statement that \" My Fav Cookies are Choclate Chip\"  The \" \" marks are what determine it is a string in most coding languages.\n",
    "\n",
    "### Boolean\n",
    "\n",
    "Booleans are True or False, and they are used for condtional statements\n",
    " \n",
    "\n",
    "```python\n",
    "    ChrissieGetsSleep = False\n",
    "    \n",
    "    if ChrissieGetsSleep = True:\n",
    "        pass\n",
    "    else: \n",
    "        return 0\n",
    "```\n",
    "\n",
    "Here we have a if statement that checks if the boolean variable is currently true and if its true it won't do anything, but if its false it will return 0.\n",
    "\n",
    "### Float\n",
    "\n",
    "Floats are a integers that can have decimal values\n",
    "```python\n",
    "    x = 3.1415\n",
    "    print(x)\n",
    "```\n",
    "\n",
    "In this case we call int x to be 3.1415, and this is a float because of its decimal points.\n",
    "\n",
    "### Lists\n",
    "\n",
    "Lists are ordered collections of items in Python. They can contain a mix of different data types, including integers, floats, strings, and more. \n",
    "\n",
    "```python\n",
    "my_list = [1, 2, 3, 4, 5]\n",
    "print(my_list)\n",
    "```\n",
    "\n",
    "### Dictionaries in Python\n",
    "\n",
    "Dictionaries are versatile data structures in Python that store key-value pairs. Each value in a dictionary is associated with a unique key, which allows for efficient lookups and retrieval of values.\n",
    "\n",
    "```python\n",
    "my_dict = {\n",
    "    \"name\": \"Alice\",\n",
    "    \"age\": 30,\n",
    "    \"city\": \"Wonderland\"\n",
    "}\n",
    "print(my_dict)\n",
    "```"
   ]
  },
  {
   "cell_type": "code",
   "execution_count": 5,
   "metadata": {},
   "outputs": [
    {
     "name": "stdout",
     "output_type": "stream",
     "text": [
      "Concatation between two non strings in a print statement will EVALUATE them.\n",
      "Notice how they get ADDED together.\n",
      "3\n",
      "\n",
      "Concatation between two  strings in a print statement will CONNECT them.\n",
      "Notice how they get CONNECTED together.\n",
      "12\n"
     ]
    }
   ],
   "source": [
    "# Concatation of variables\n",
    "\n",
    "int1 = 1\n",
    "int2 = 2\n",
    "print(\"Concatation between two non strings in a print statement will EVALUATE them.\")\n",
    "print(\"Notice how they get ADDED together.\")\n",
    "print(int1 + int2)\n",
    "print()\n",
    "\n",
    "print(\"Concatation between two  strings in a print statement will CONNECT them.\")\n",
    "print(\"Notice how they get CONNECTED together.\")\n",
    "string1 = \"1\"\n",
    "string2 = \"2\"\n",
    "print(string1 + string2) # notice how this CONNECTS the variables\n",
    "\n",
    "# Print statements like these can be used to EVALUATE variables (here we add them)\n",
    "# To connect them together (\"1\" + \"2\" = \"12\"), use strings"
   ]
  },
  {
   "cell_type": "markdown",
   "metadata": {},
   "source": [
    "<hr style=\"solid\">\n",
    "\n",
    "## Choosing the Right Data Type in Python\n",
    "\n",
    "In Python, choosing the appropriate data type for your variables is essential to ensure efficient and correct program execution. Here's when to use some common data types:\n",
    "\n",
    "### Integers (`int`)\n",
    "\n",
    "- **Use Cases**: Use integers when you need to represent whole numbers without fractional parts. Integers are suitable for counting, indexing, and performing integer arithmetic.\n",
    "\n",
    "### Floating-Point Numbers (`float`)\n",
    "\n",
    "- **Use Cases**: Use floating-point numbers when you need to represent real numbers with decimal points. They are suitable for calculations that involve fractions or decimal values.\n",
    "\n",
    "### Strings (`str`)\n",
    "\n",
    "- **Use Cases**: Use strings when you need to work with text data, such as names, sentences, or any sequence of characters. Strings are versatile and can store both plain text and formatted text.\n",
    "\n",
    "### Lists (`list`)\n",
    "\n",
    "- **Use Cases**: Use lists when you need an ordered collection of items that can be modified. Lists are ideal for storing multiple values of the same or different data types.\n",
    "\n",
    "### Tuples (`tuple`)\n",
    "\n",
    "- **Use Cases**: Use tuples when you need an ordered collection of items that should remain immutable (unchangeable). Tuples are useful for representing fixed sequences of data.\n",
    "\n",
    "### Dictionaries (`dict`)\n",
    "\n",
    "- **Use Cases**: Use dictionaries when you need to store key-value pairs, where each key maps to a specific value. Dictionaries are efficient for looking up values based on keys.\n",
    "\n",
    "### Sets (`set`)\n",
    "\n",
    "- **Use Cases**: Use sets when you need an unordered collection of unique elements. Sets are useful for tasks like removing duplicates from a list or performing set operations.\n",
    "\n",
    "### Booleans (`bool`)\n",
    "\n",
    "- **Use Cases**: Use booleans to represent binary values, such as `True` or `False`. They are essential for making decisions and controlling the flow of your program using conditional statements.\n",
    "\n",
    "### None (`NoneType`)\n",
    "\n",
    "- **Use Cases**: Use `None` when you want to represent the absence of a value or indicate that a variable has no assigned value. It's often used as a placeholder or default initial value.\n",
    "\n",
    "Choosing the right data type helps make your code more readable, efficient, and easier to maintain. Understanding the characteristics and limitations of each data type is essential for effective Python programming.\n"
   ]
  },
  {
   "cell_type": "markdown",
   "metadata": {},
   "source": [
    "<hr style=\"solid\">\n",
    "\n",
    "## Represent a list or string using a variable."
   ]
  },
  {
   "cell_type": "code",
   "execution_count": null,
   "metadata": {},
   "outputs": [],
   "source": [
    "# We are going to cover representing lists or strings with a variable. \n",
    "# A list is an ordered sequence of elements. An element is an individual value in a list that is assigned a unique index.\n",
    "\n",
    "# For example, if I have a grocery list with milk, eggs, and cookies, each item is an element. \n",
    "groceryList = [\"milk\", \"eggs\", \"cookies\"] \n",
    "#               one ^  two ^    three ^\n",
    "\n",
    "# The index is a method for referencing the elements in the list. For example, if I reference item 1, it will be milk.\n",
    "\n",
    "# IMPORTANT: most if not all programming languages index at 0. This means that the 0th element would be milk and the 1st element is eggs. \n",
    "# For the AP Exam, indexing will be at 1.\n",
    "\n",
    "\n",
    "# Next is a string which is an ordered sequence of characters. \n",
    "# This may contain letters, numbers, and special characters. Examples include:\n",
    "string = \"Perry\"\n",
    "string2 = \"12\"\n",
    "string3 = \"!@#\"\n",
    "stringn4 = \"Perry12!@#\""
   ]
  },
  {
   "cell_type": "markdown",
   "metadata": {},
   "source": [
    "### Develop data abstraction using lists to store multiple elements.\n"
   ]
  },
  {
   "cell_type": "code",
   "execution_count": null,
   "metadata": {},
   "outputs": [],
   "source": [
    "# Data abstraction allows for the reduction of a particular body of data to a simplified representation of the whole. \n",
    "# For example, saying that I have a “grocery list” is a lot easier than saying “I have a list with milk, eggs, and cookies.” \n",
    "groceryList = [\"milk\", \"eggs\", \"cookies\"] \n",
    "# bundle ^\n",
    "\n",
    "# In this example, we bundle this data into one term and simplify it. \n",
    "# In programming, you can bundle variables together by type and you can name your bundle (name your list). \n",
    "# With a list, you don’t need to know how many variables will be needed or how the elements will be stored together. \n",
    "# The exam reference sheet will provide notation for lists."
   ]
  },
  {
   "cell_type": "markdown",
   "metadata": {},
   "source": [
    "### How does data abstraction manage complexity in program code?"
   ]
  },
  {
   "cell_type": "code",
   "execution_count": null,
   "metadata": {},
   "outputs": [],
   "source": [
    "# Data abstraction can manage complexity in programs by bundling data together. \n",
    "# This can result in a program that is easier to develop and maintain. \n",
    "# It also allows multiple related items to be treated as a single value. \n",
    "\n",
    "# You also need less variables since one variable holds all the other ones and it allows you to easily modify these variables.\n",
    "groceryList = [\"milk\", \"eggs\", \"cookies\"] # nice and short\n",
    "\n",
    "# long and bad\n",
    "item1 = \"milk\"\n",
    "item2 = \"eggs\"\n",
    "item3 = \"cookies\"\n",
    "\n",
    "# modify variables:\n",
    "groceryList = [\"milk\", \"eggs\", \"cookies\"] # nice and short\n",
    "\n",
    "# replace the index 1 with chocolate\n",
    "groceryList[1] = \"chocolate\" # notice how index 1 is the 2nd element (AP exam index at 1)\n",
    "\n",
    "# add a new element\n",
    "groceryList.append(\"flour\")\n",
    "\n",
    "# remove element\n",
    "groceryList.remove(\"milk\")"
   ]
  },
  {
   "cell_type": "markdown",
   "metadata": {},
   "source": [
    "<hr style=\"solid\">\n",
    "\n",
    "## JSON implementation\n",
    "\n",
    "JSON stands for JavaScript Object Notation. It is a lightweight format for storing and transporting data. It has several uses. For example, if someone is managing an inventory of cars, they can use JSON to import data and export it.\n",
    "\n",
    "JSON is used when data is sent from a web server to a webpage.\n",
    "\n",
    "So the car person can use JSON to display their current inventory of cars to sell on their webpage.\n",
    "\n",
    "### Converting from PYTHON TO JSON"
   ]
  },
  {
   "cell_type": "code",
   "execution_count": 14,
   "metadata": {},
   "outputs": [
    {
     "name": "stdout",
     "output_type": "stream",
     "text": [
      "{\"name\": \"John\", \"age\": 30, \"city\": \"New York\"}\n"
     ]
    }
   ],
   "source": [
    "import json # you will need to import this library\n",
    "\n",
    "# python dictionary\n",
    "x = {\n",
    "  \"name\": \"John\",\n",
    "  \"age\": 30,\n",
    "  \"city\": \"New York\"\n",
    "}\n",
    "\n",
    "# convert into JSON\n",
    "# we first CALL the library and use the dumps() function\n",
    "# to call the library and use dumps(), we do json.dumps()\n",
    "\n",
    "# note: do you know of function machines in math? where you put in the variable, it does some operations, and outputs it?\n",
    "#       a code function is the same! it takes some data, does some code on it, and outputs it!\n",
    "\n",
    "\n",
    "# essentially, we say \"Hey! JSON library! I would like to use your dumps() function!\"\n",
    "# and then we give the function what we want to dump: \"Here is the thing I want to dump into JSON!\"\n",
    "# then the library says back \"Here you go! Here's your JSON! I stored it in the y variable!\"\n",
    "y = json.dumps(x) \n",
    "\n",
    "\n",
    "print(y) # the result is a JSON string"
   ]
  },
  {
   "cell_type": "markdown",
   "metadata": {},
   "source": [
    "### Formatting"
   ]
  },
  {
   "cell_type": "code",
   "execution_count": 15,
   "metadata": {},
   "outputs": [
    {
     "name": "stdout",
     "output_type": "stream",
     "text": [
      "Indent\n",
      "{\n",
      "    \"name\": \"John\",\n",
      "    \"age\": 30,\n",
      "    \"city\": \"New York\"\n",
      "}\n",
      "\n",
      "Indent + seperator\n",
      "{\n",
      "    \"name\" = \"John\".\n",
      "    \"age\" = 30.\n",
      "    \"city\" = \"New York\"\n",
      "}\n",
      "\n",
      "Indent + seperator + sorted\n",
      "{\n",
      "    \"age\" = 30.\n",
      "    \"city\" = \"New York\".\n",
      "    \"name\" = \"John\"\n",
      "}\n"
     ]
    }
   ],
   "source": [
    "# the result above isn't easy to read. let's fix that by formatting!\n",
    "\n",
    "import json\n",
    "\n",
    "x = {\n",
    "  \"name\": \"John\",\n",
    "  \"age\": 30,\n",
    "  \"city\": \"New York\"\n",
    "}\n",
    "\n",
    "print(\"Indent\")\n",
    "y = json.dumps(x, indent=4) # we call the function but say \"Please indent it for me!\"\n",
    "print(y + \"\\n\") # the \"\\n\" is a newline seperator and adds a space between each print statement\n",
    "\n",
    "print(\"Indent + seperator\")\n",
    "y = json.dumps(x, indent=4, separators=(\".\", \" = \")) # we change the seperator\n",
    "print(y + \"\\n\")\n",
    "\n",
    "print(\"Indent + seperator + sorted\")\n",
    "y = json.dumps(x, indent=4, separators=(\".\", \" = \"), sort_keys=True) # now we are sorting them\n",
    "print(y)\n"
   ]
  },
  {
   "cell_type": "markdown",
   "metadata": {},
   "source": [
    "### Converting from PYTHON TO JSON"
   ]
  },
  {
   "cell_type": "code",
   "execution_count": 18,
   "metadata": {},
   "outputs": [
    {
     "name": "stdout",
     "output_type": "stream",
     "text": [
      "30\n"
     ]
    }
   ],
   "source": [
    "import json\n",
    "\n",
    "x =  '{ \"name\":\"John\", \"age\":30, \"city\":\"New York\"}' # some JSON\n",
    "\n",
    "y = json.loads(x) # parse with loads() function\n",
    "\n",
    "print(y[\"age\"]) # the result is a Python dictionary"
   ]
  },
  {
   "cell_type": "markdown",
   "metadata": {},
   "source": [
    "### Challenge Problem"
   ]
  },
  {
   "cell_type": "code",
   "execution_count": 6,
   "metadata": {},
   "outputs": [
    {
     "ename": "TypeError",
     "evalue": "cannot unpack non-iterable int object",
     "output_type": "error",
     "traceback": [
      "\u001b[0;31m---------------------------------------------------------------------------\u001b[0m",
      "\u001b[0;31mTypeError\u001b[0m                                 Traceback (most recent call last)",
      "Cell \u001b[0;32mIn[6], line 46\u001b[0m\n\u001b[1;32m     43\u001b[0m dough\u001b[39m=\u001b[39m [\u001b[39m\"\u001b[39m\u001b[39mbutter\u001b[39m\u001b[39m\"\u001b[39m, \u001b[39m\"\u001b[39m\u001b[39mwhite sugar\u001b[39m\u001b[39m\"\u001b[39m, \u001b[39m\"\u001b[39m\u001b[39mlight brown sugar\u001b[39m\u001b[39m\"\u001b[39m, \u001b[39m\"\u001b[39m\u001b[39mvanilla extract\u001b[39m\u001b[39m\"\u001b[39m, \u001b[39m\"\u001b[39m\u001b[39meggs\u001b[39m\u001b[39m\"\u001b[39m\u001b[39m\"\u001b[39m\u001b[39mflour\u001b[39m\u001b[39m\"\u001b[39m, \u001b[39m\"\u001b[39m\u001b[39mbaking soda\u001b[39m\u001b[39m\"\u001b[39m, \u001b[39m\"\u001b[39m\u001b[39msalt\u001b[39m\u001b[39m\"\u001b[39m, \u001b[39m\"\u001b[39m\u001b[39mbaking powder\u001b[39m\u001b[39m\"\u001b[39m]\n\u001b[1;32m     44\u001b[0m \u001b[39m# Combine the bowl list and cream list together\u001b[39;00m\n\u001b[1;32m     45\u001b[0m \u001b[39m# Print your list\u001b[39;00m\n\u001b[0;32m---> 46\u001b[0m \u001b[39mfor\u001b[39;00m i, \u001b[39min\u001b[39;00m \u001b[39mrange\u001b[39m (\u001b[39m0\u001b[39m, \u001b[39mlen\u001b[39m(dough)):\n\u001b[1;32m     47\u001b[0m     \u001b[39mprint\u001b[39m(dough[i])\n\u001b[1;32m     49\u001b[0m \u001b[39m# << CODE >>\u001b[39;00m\n\u001b[1;32m     50\u001b[0m \n\u001b[1;32m     51\u001b[0m \u001b[39m# Append chocolate chips to the dough list and remove it from the ingredients list\u001b[39;00m\n\u001b[1;32m     52\u001b[0m \u001b[39m# Print the list\u001b[39;00m\n",
      "\u001b[0;31mTypeError\u001b[0m: cannot unpack non-iterable int object"
     ]
    }
   ],
   "source": [
    "ingredients = [\"butter\", \"white sugar\", \"light brown sugar\", \"vanilla extract\", \"eggs\", \"flour\", \"chocolate chips\", \"baking soda\", \"salt\", \"baking powder\"]\n",
    "# Print this list\n",
    "\n",
    "# << CODE >>\n",
    "\n",
    "\n",
    "# Create a list called bowl\n",
    "bowl = [\"flour\", \"baking soda\", \"salt\", \"baking powder\"]\n",
    "ingredients.remove(\"flour\")\n",
    "ingredients.remove(\"baking soda\")\n",
    "ingredients.remove(\"salt\")\n",
    "ingredients.remove(\"baking powder\")\n",
    "# Your list must include:\n",
    "# \"flour\"\n",
    "# \"baking soda\"\n",
    "# \"salt\"\n",
    "# \"baking powder\"\n",
    "# When creating this list, make sure to remove these items from the \"ingredients\" list!\n",
    "# Print your list\n",
    "\n",
    "# << CODE >>\n",
    "\n",
    "# Create a list called cream\n",
    "cream = [\"butter\", \"white sugar\", \"light brown sugar\", \"vanilla extract\", \"eggs\",]\n",
    "ingredients.remove(\"butter\")\n",
    "ingredients.remove(\"white sugar\")\n",
    "ingredients.remove(\"light brown sugar\")\n",
    "ingredients.remove(\"vanilla extract\")\n",
    "ingredients.remove(\"eggs\")\n",
    "\n",
    "# Include:\n",
    "# \"butter\"\n",
    "# \"white sugar\"\n",
    "# \"light brown sugar\"\n",
    "# \"vanilla extract\"\n",
    "# \"eggs\"\n",
    "# When creating this list, make sure to remove these items from the \"ingredients\" list!\n",
    "# Print your list\n",
    "\n",
    "# << CODE >>\n",
    "\n",
    "# Create a list called \"dough\"\n",
    "dough= [\"butter\", \"white sugar\", \"light brown sugar\", \"vanilla extract\", \"eggs\"\"flour\", \"baking soda\", \"salt\", \"baking powder\"]\n",
    "# Combine the bowl list and cream list together\n",
    "# Print your list\n",
    "for i, in range (0, len(dough)):\n",
    "    print(dough[i])\n",
    "\n",
    "# << CODE >>\n",
    "\n",
    "# Append chocolate chips to the dough list and remove it from the ingredients list\n",
    "# Print the list\n",
    "dough.append(\"chocolate chips\")\n",
    "ingredients.remove(\"chocolate chips\")\n",
    "\n",
    "# << CODE >>\n",
    "\n",
    "# Create a string that says \"Now roll the dough into balls and place them on cookie sheets!\"\n",
    "# Print it\n",
    "print(\"Now roll the dough into balls and place them on cookie sheets!\")\n",
    "# << CODE >>\n",
    "\n",
    "# Create an int called temperature and set it to 375\n",
    "# Print \"Place in a <<your integer goes here>> F oven for 8-10 minutes and remove just before they start to turn brown.\"\n",
    "temp = 375\n",
    "# << CODE >>\n",
    "coolDown = 2\n",
    "# Create an int called \"cool down\" using pascal case and set it to 2\n",
    "# Print \"Let them sit on the baking pan for <<your integer goes here>> minutes before removing to cooling rack.\"\n",
    "\n",
    "# << CODE >>\n",
    "\n",
    "# Create 5 string (use whatever casing you feel)\n",
    "# First string should be \"Enjoy\"\n",
    "# Second string should be \"your\"\n",
    "# Third string should be \"CHOCOLATE\"\n",
    "# Fourth string should be \"CHIP\"\n",
    "# Fifth string should be \"COOKIES!!!\"\n",
    "# Using ONE print statement, print ALL of these variables (with a space between each)\n",
    "one = \"ENJOY\"\n",
    "two = \"YAY\"\n",
    "print(one+\" \"+two)\n",
    "# << CODE >>\n",
    "\n",
    "# JSON CHALLENGE\n",
    "# can your do the whole project by using a JSON list?\n",
    "# can you convert it to a python dictionary and do all these steps?\n",
    "\n",
    "# Yes this is a real cookie recipe. You can find it below if you wanna make them! :)\n",
    "# https://joyfoodsunshine.com/the-most-amazing-chocolate-chip-cookies/"
   ]
  }
 ],
 "metadata": {
  "kernelspec": {
   "display_name": "Python 3",
   "language": "python",
   "name": "python3"
  },
  "language_info": {
   "codemirror_mode": {
    "name": "ipython",
    "version": 3
   },
   "file_extension": ".py",
   "mimetype": "text/x-python",
   "name": "python",
   "nbconvert_exporter": "python",
   "pygments_lexer": "ipython3",
   "version": "3.11.4"
  },
  "orig_nbformat": 4
 },
 "nbformat": 4,
 "nbformat_minor": 2
}
