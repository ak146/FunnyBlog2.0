{
 "cells": [
  {
   "cell_type": "markdown",
   "id": "a2cc529f",
   "metadata": {},
   "source": [
    "---\n",
    "layout: post\n",
    "title: Linux Shell and Bash\n",
    "description: A Tech Talk on Linux and the Bash shell.\n",
    "toc: true\n",
    "comments: true\n",
    "categories: [5.A, C4.1]\n",
    "courses: { csse: {week: 8}, csp: {week: 0, categories: [6.B]}, csa: {week: 9} }\n",
    "type: hacks\n",
    "---"
   ]
  },
  {
   "cell_type": "markdown",
   "id": "c704695f",
   "metadata": {},
   "source": [
    "# Made by: Ryan, Daniel, Saaras, Will, and Andrew"
   ]
  },
  {
   "cell_type": "markdown",
   "id": "e3260b38",
   "metadata": {},
   "source": [
    "## Python lists Operations"
   ]
  },
  {
   "cell_type": "markdown",
   "id": "2d948d76",
   "metadata": {},
   "source": [
    "### Append function\n",
    "# From the Data Abstractions Unit we Learned bout lists and how they can store multiple variables \n",
    "# Today we're going to show you how to add items to lists utilizing the append option"
   ]
  },
  {
   "cell_type": "code",
   "execution_count": 6,
   "id": "5e8e0948",
   "metadata": {},
   "outputs": [
    {
     "name": "stdout",
     "output_type": "stream",
     "text": [
      "['item1']\n"
     ]
    }
   ],
   "source": [
    "\n",
    "lst = []\n",
    "lst.append(\"item1\")\n",
    "print(lst)"
   ]
  },
  {
   "cell_type": "markdown",
   "id": "4dacd1fd",
   "metadata": {},
   "source": [
    "### Insert function\n",
    "- The insert function allows you to append items to different lists at a specific location.\n",
    "- Let's first understand how it may work through pseudocode\n",
    "\n",
    "#### Exmaple 1\n",
    "INSERT alist, pos, value \n",
    "INSERT alist, 1, \"hi\" \n",
    "- Here the alist represents your list you want to append an item to\n",
    "- The position is where on the list you may want to add your item \n",
    "- Finally, the value is the item actually is that your adding to your list\n",
    "- So here in total in position 1 you insert the string \"hi\" into alist\n",
    "\n",
    "### Your turn!!!!\n",
    "- Turn this pseudocode into python\n",
    "- How may we want to implement this on python? Think back to the data abstraction unit. \n",
    "- ( Hint: Think about the differences between psueodcode and python )"
   ]
  },
  {
   "cell_type": "code",
   "execution_count": 7,
   "id": "1c6c3810",
   "metadata": {},
   "outputs": [
    {
     "name": "stdout",
     "output_type": "stream",
     "text": [
      "['item1', 'item0']\n"
     ]
    }
   ],
   "source": [
    "# ANSWER: \n",
    "# Inserting items to a specific list, remember python is 0 based on the items!!\n",
    "lst.insert(0, \"item0\")\n",
    "print(lst)"
   ]
  },
  {
   "cell_type": "markdown",
   "id": "ed4f8f87",
   "metadata": {},
   "source": [
    "### Remove function\n",
    "- The remove functions allows you to remove specific items at a specific position on the list\n",
    "\n",
    "#### Pseudocode example\n",
    "- REMOVE aList, pos\n",
    "\n"
   ]
  },
  {
   "cell_type": "code",
   "execution_count": null,
   "id": "d29c6491",
   "metadata": {},
   "outputs": [],
   "source": [
    "# Remove method \n",
    "lst.remove(0)\n",
    "print(lst)\n",
    "\n",
    "## You can also access the list by the position, this is called list indexing\n",
    "print(lst[0])"
   ]
  },
  {
   "cell_type": "markdown",
   "id": "82b37677",
   "metadata": {},
   "source": [
    "### Let's do some Collegeboard exercises\n",
    "- In the following list:\n",
    "  - nums = [65, 89, 92, 35, 84, 78, 28, 75]\n",
    "- Figure out what the minimum number in the list, WITHOUT using the other methods and premade functions.\n",
    "\n",
    "### Second question:\n",
    "- Let's say we have a list called \"animals\" from a survey that stores whether or not they prefer \"cats\" or \"dogs\" as strings in this list.\n",
    "- Transverse this list and tell me the total amount cats and dogs in the list\n"
   ]
  },
  {
   "cell_type": "code",
   "execution_count": null,
   "id": "72025150",
   "metadata": {},
   "outputs": [],
   "source": [
    "nums = [65, 89, 92, 35, 84, 78, 28, 75]\n",
    "\n",
    "## Your code here"
   ]
  },
  {
   "cell_type": "code",
   "execution_count": null,
   "id": "4e9f4651",
   "metadata": {},
   "outputs": [],
   "source": [
    "animals = [\"cats\", \"dogs\"]"
   ]
  },
  {
   "cell_type": "markdown",
   "id": "bb09ae30",
   "metadata": {},
   "source": [
    "### ITS BINARY SEARCH TIME\n",
    "- By the end of this you should be able to know what binary search is\n",
    "- What the time complexity of binary search is\n",
    "- How to derive the time complexity for binary search"
   ]
  },
  {
   "cell_type": "markdown",
   "id": "f8476c40",
   "metadata": {},
   "source": [
    "### HOW DOES BINARY SEARCH WORK\n",
    "- pay attention to the demonstration in the front\n",
    "- volunteers will be called up\n",
    "- candy if you participate"
   ]
  },
  {
   "cell_type": "markdown",
   "id": "58a5568c",
   "metadata": {},
   "source": [
    "Binary search is like a guessing game where you halve your options at each step. Imagine you're finding a name in a phone book:\n",
    "\n",
    "1. **First Step:** You open the book in the middle.\n",
    "2. **Second Step:** Is the name before or after the middle? You eliminate half of the remaining names.\n",
    "3. **Repeat:** Keep dividing until you find the name or run out of names to check.\n",
    "4. **MAKE SURE YOUR LIST IS SORTED** Binary search will not work if the list isn't sorted\n",
    "\n",
    "Because you're halving the options each time, it's super quick. If you have \\(n\\) names, it takes at most \\( \\log_2(n) \\) steps to find a name. This efficiency, where the time it takes doesn't increase much as the number of names in the phone book grows, is what makes binary search awesome! Binary search is also more optimal for searcihng compared to a linear search for anything that doesnt include small lists..\n"
   ]
  },
  {
   "cell_type": "markdown",
   "id": "aab4dcf5",
   "metadata": {},
   "source": [
    "### Demo Being shown above\n",
    "The sorted list we have currently, has integers [1, 3, 4, 5, 13, 20], we are currently trying to find the index of the integer 1 within the list\n",
    "\n",
    "How it works is we start at element 0 for our left position and element 5 for our rightwards position\n",
    "\n",
    "Our middle position becaomes 5 because ((5+0)//2)=3 so element 3\n",
    "\n",
    "Our element 3 within the list gives us the integer 5\n",
    "\n",
    "We then realize that oh 5 is greater then 3 so we have to move leftwards\n",
    "\n",
    "Then to make the algorithm more efficient we move the r backwards 1 beacuse we have already checked at this point\n",
    "\n",
    "So now we can reduce the list to [1, 3, 4]\n",
    "\n",
    "Now we can repeat the same steps as before and find the middle of this list which is 3\n",
    "\n",
    "We realize thats not equivalent to the integer 1, and our value is still too great\n",
    "\n",
    "So we move the middle leftwards 1 positioon\n",
    "\n",
    "AND BAM THATS HOW YOU CAN DO BINARY SEARCH\n",
    "\n",
    "\n"
   ]
  },
  {
   "cell_type": "code",
   "execution_count": 8,
   "id": "df0e0b53",
   "metadata": {},
   "outputs": [
    {
     "name": "stdout",
     "output_type": "stream",
     "text": [
      "(1, 3)\n"
     ]
    }
   ],
   "source": [
    "#example of binary search in python has a time complexity of O(n)\n",
    "def binarySearch(arr, x):\n",
    "    l= 0 #our minimum element\n",
    "    r=len(arr) - 1 # our maximum element\n",
    "    while l <= r:\n",
    "        mid = l + (r - l) // 2 \n",
    "        if arr[mid] == x:\n",
    "            return mid\n",
    "        elif arr[mid] < x:\n",
    "            l = mid + 1\n",
    "        else:\n",
    "            r = mid - 1\n",
    "    return -1\n",
    "\n",
    "\n",
    "sorted_list = [2, 5, 8, 12, 16]\n",
    "target = 3\n",
    "result = binarySearch(sorted_list, 5)\n",
    "print(result)\n"
   ]
  },
  {
   "cell_type": "code",
   "execution_count": 3,
   "id": "1b892fe0",
   "metadata": {},
   "outputs": [
    {
     "name": "stdout",
     "output_type": "stream",
     "text": [
      "1\n"
     ]
    }
   ],
   "source": [
    "#Linear Search Approach in O(n)\n",
    "def linear_search(target, sorted_list):\n",
    "    for o in range(len(sorted_list)):\n",
    "        if sorted_list[o]==target:\n",
    "            return(o)\n",
    "#Does not have to be a sorted list for the sake of comparison I just made it sorted\n",
    "sorted_list = [1, 3, 5, 7, 9, 11, 13, 15]\n",
    "target = 3\n",
    "result = linear_search(target, sorted_list)\n",
    "print(result)\n"
   ]
  },
  {
   "cell_type": "markdown",
   "id": "abd6924e",
   "metadata": {},
   "source": [
    "How big O Notation works in the context works in the case of search methods.\n",
    "\n",
    "Lets first explain for linear search, because linear search only requires a iterative approach all we use is O(n), this is due\n",
    "to the loop infinitely going until it finds the element and then after that it doesnt do anything.\n",
    "\n",
    "However binary search is special in this sense because you don't actually have to go through an entire loop how you can picture this is by imagining a list with 1000000 integer values in it and my target value is 59223, binary search makes it so that you just divide the list by 2 until you find the element. It's a lot faster then the iterative approach, where I keep going until I get to 59223 what this does is it allows me to speed up the time and memory usage I take. because I keep dividing the list by 2 allowing for me to form a logarithm because its just repetitive multiplication of 1/2 and then that makes it so that O(log(n)) becomes the time complexity for the Binary search algorithm.\n",
    "\n",
    "\n"
   ]
  },
  {
   "cell_type": "markdown",
   "id": "b849fad1",
   "metadata": {},
   "source": [
    "HW TIME!!!!!!!!!!!!!!!!!!\n",
    "We want you guys to make a guessing game below, where utilizing binary search you can within a list of 100 sorted elemments find, a value that your code will randomize using random.randint(). We want you to also make it so every iteration output the number is higher up or lower until you actually get to the answer. We also want number of tries it took to guess the number. Points will be awarded for customizations and potential changes.\n",
    "\n",
    "Extra credit (for above 95%): Send a screenshot on me to slack showing you can do this: https://codeforces.com/contest/1201/problem/C"
   ]
  },
  {
   "cell_type": "code",
   "execution_count": null,
   "id": "34575e73",
   "metadata": {},
   "outputs": [],
   "source": [
    "#Code in here"
   ]
  },
  {
   "cell_type": "markdown",
   "id": "fb348a05",
   "metadata": {},
   "source": [
    "HW Part 2: This time instead of utilizing binary search to do it I want you to use linear search to get to the same value and I want you to output the number of iterations it took to get there. Aswell as a congrats message upon getting there points will be awarded upon creativity and completion."
   ]
  },
  {
   "cell_type": "code",
   "execution_count": null,
   "id": "8ba0fe5a",
   "metadata": {},
   "outputs": [],
   "source": [
    "#Code in here"
   ]
  }
 ],
 "metadata": {
  "kernelspec": {
   "display_name": "Python 3 (ipykernel)",
   "language": "python",
   "name": "python3"
  },
  "language_info": {
   "codemirror_mode": {
    "name": "ipython",
    "version": 3
   },
   "file_extension": ".py",
   "mimetype": "text/x-python",
   "name": "python",
   "nbconvert_exporter": "python",
   "pygments_lexer": "ipython3",
   "version": "3.11.4"
  }
 },
 "nbformat": 4,
 "nbformat_minor": 5
}
