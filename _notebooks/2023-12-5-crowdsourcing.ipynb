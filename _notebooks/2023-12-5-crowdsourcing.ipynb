{
 "cells": [
  {
   "cell_type": "markdown",
   "metadata": {},
   "source": [
    "---\n",
    "comments: true\n",
    "layout: post\n",
    "title: 5.4 Crowdsourcing\n",
    "description: Team Teach by Saathvik Gampa, Akshay Nagesh, Ishan Cornick, and Nitin Balaji\n",
    "type: hacks \n",
    "courses: { compsci: {week: 4} }\n",
    "---"
   ]
  },
  {
   "cell_type": "markdown",
   "metadata": {},
   "source": [
    "Crowdsourcing is a method of obtaining information, ideas, services, or content by soliciting contributions from a large group of people, particularly from an online community, rather than from traditional employees or suppliers. This approach leverages the collective intelligence and skills of a vast, diverse crowd to solve problems, generate ideas, and complete tasks.\n",
    "\n",
    "\n",
    "Definition: Crowdsourcing combines the words \"crowd\" and \"outsourcing.\" It was first coined by Jeff Howe in a 2006 Wired magazine article. The concept is based on the idea that a large group of people can collectively contribute more diverse and substantial input than an individual or small team."
   ]
  },
  {
   "cell_type": "markdown",
   "metadata": {},
   "source": [
    "# Popcorn Hack #1\n",
    "\n",
    "\n",
    "### What is a public dataset?\n",
    "A data set that is freely avalaible to the public.\n"
   ]
  },
  {
   "cell_type": "markdown",
   "metadata": {},
   "source": [
    "# Examples of Data sets\n",
    "\n",
    "## Kaggle\n",
    "- Courses in visualization, tensorflow ai , and machine learning\n",
    "- Competitons - cash prizes, props\n",
    "- Notebooks- code, data, etc\n",
    "\n",
    "## Google public datasets\n",
    "- Free for the 1st terabyte\n",
    "\n",
    "## Data.gov\n",
    "- Uses government data to analyze markets, etc\n",
    "- Agriculture, energy, water, health\n",
    "\n",
    "\n",
    "Widespread access to information and public data facilitates the identification of problems, development of solutions, and dissemination of results."
   ]
  },
  {
   "cell_type": "markdown",
   "metadata": {},
   "source": [
    "# Popcorn Hack #2\n",
    "\n",
    "\n",
    "What is distributed computing?\n",
    "spreading out computing power to help other apps function"
   ]
  },
  {
   "cell_type": "markdown",
   "metadata": {},
   "source": [
    "Distributed computing\n",
    "\n",
    "- Donate spare computing power to help other apps function\n",
    "\n",
    "\n",
    "Example:\n",
    "### Boinc - University of California Berkley\n",
    "- Mathematics\n",
    "- Astrophysics\n",
    "- Climate\n",
    "- Minecraft\n",
    "  - If you've ever played minecraft you should know what a map seed is. The algorithm in minecraft uses the seed to develop the world that people play on. This is another example of distributed computing.\n",
    "\n",
    "\n",
    "These projects uses excess computing power in order to run these operations and projects. It is where individuals or organizations obtain ideas, services, or content by using contributions from a large group of individuals typically from an online community."
   ]
  },
  {
   "cell_type": "markdown",
   "metadata": {},
   "source": [
    "## Innovations made possible with Crowdsourcing\n",
    "\n",
    "### Spotify\n",
    "- Colaborative playlists\n",
    "- Algorithm\n",
    "    - Trains its algorithm by collecting and analyzing what other people are listening to.\n",
    "- Metadata\n",
    "\n",
    "### Crowdfunding\n",
    "- Kickstarter\n",
    "    - An app where you can pitch your idea for other people to invest in your idea\n",
    "- IndeGoGo\n",
    "\n",
    "### Blockchain\n",
    "- Cryptocurrency\n",
    "    - Uses much computing power from external people in order to process transactions. This is called \"mining\".\n",
    "- Concert Tickets"
   ]
  }
 ],
 "metadata": {
  "language_info": {
   "name": "python"
  },
  "orig_nbformat": 4
 },
 "nbformat": 4,
 "nbformat_minor": 2
}
