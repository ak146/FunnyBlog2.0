{
 "cells": [
  {
   "cell_type": "markdown",
   "metadata": {},
   "source": [
    "---\n",
    "title: Boolean Hacks\n",
    "type: hacks andrew\n",
    "description: Boolean iF else\n",
    "categories: ['C4.9']\n",
    "courses: {'csp': {'week': 8}}\n",
    "tags: ['pseudocode', 'python']\n",
    "---"
   ]
  },
  {
   "cell_type": "markdown",
   "metadata": {},
   "source": [
    "# Boolean\n",
    "\n",
    "- A Boolean value is either true or false.\n",
    "- A Boolean expression produces a Boolean value (true or false) when evaluated."
   ]
  },
  {
   "cell_type": "markdown",
   "metadata": {},
   "source": [
    "## <mark>Conditional (\"if\") statements</mark>\n",
    "\n",
    "- Affect the sequential flow of control by executing different statements based on the value of a Boolean expression."
   ]
  },
  {
   "cell_type": "code",
   "execution_count": null,
   "metadata": {
    "vscode": {
     "languageId": "html"
    }
   },
   "outputs": [],
   "source": [
    "IF (condition)\n",
    "{\n",
    "\t<block of statements>\n",
    "}\n",
    "\n",
    "The code in <block of statements> is executed if the Boolean expression condition evaluates to true; no action is taken if condition evaluates to false.\n",
    "\n",
    "IF (condition)\n",
    "{\n",
    "\t<block of statements>\n",
    "}\n",
    "ELSE\n",
    "{\n",
    "\t<second block of statements>\n",
    "}\n",
    "\n",
    "The code in the first <block of statements> is executed if the Boolean expression condition evaluates to true; otherwise, the code in <second block of statements> is executed."
   ]
  },
  {
   "cell_type": "markdown",
   "metadata": {},
   "source": [
    "<b>Example:</b> Calculate the sum of 2 numbers. If the sum is greater than 10, display 10; otherwise, display the sum."
   ]
  },
  {
   "cell_type": "code",
   "execution_count": null,
   "metadata": {
    "vscode": {
     "languageId": "html"
    }
   },
   "outputs": [],
   "source": [
    "num1 = INPUT\n",
    "num2 = INPUT\n",
    "sum = num1 + num2\n",
    "IF (sum > 10)\n",
    "{\n",
    "\tDISPLAY (10)\n",
    "}\n",
    "ELSE\n",
    "{\n",
    "\tDISPLAY (sum)\n",
    "}"
   ]
  },
  {
   "cell_type": "markdown",
   "metadata": {},
   "source": [
    "# Hack 1\n",
    "\n",
    "- Add a variable that represents an age.\n",
    "\n",
    "- Add an 'if' and 'print' function that says \"You are an adult\" if your age is greater than or equal to 18.\n",
    "\n",
    "- Make a function that prints \"You are a minor\" with the else function."
   ]
  },
  {
   "cell_type": "code",
   "execution_count": null,
   "metadata": {},
   "outputs": [],
   "source": [
    "## YOUR CODE HERE\n",
    "age=int(input())\n",
    "if age>18:\n",
    "    print(\"You are an adult\")\n",
    "else:\n",
    "    print(\"You are a a minor\")"
   ]
  },
  {
   "cell_type": "markdown",
   "metadata": {},
   "source": [
    "## <mark><b>Relational operators:</b></mark> \n",
    "- Used to test the relationship between 2 variables, expressions, or values. These relational operators are used for comparisons and they evaluate to a Boolean value (true or false).\n",
    "\n",
    "<b>Ex.</b> a == b evaluates to true if a and b are equal, otherwise evaluates to false\n",
    "\n",
    "- a == b (equals)\t\n",
    "- a != b (not equal to)\n",
    "- a > b (greater than)\n",
    "- a < b (less than)\n",
    "- a >= b (greater than or equal to)\n",
    "- a <= b (less than or equal to)"
   ]
  },
  {
   "cell_type": "markdown",
   "metadata": {},
   "source": [
    "<b>Example:</b> The legal age to work in California is 14 years old. How would we write a Boolean expression to check if someone is at least 14 years old?\n",
    "\n",
    "age >= 14"
   ]
  },
  {
   "cell_type": "markdown",
   "metadata": {},
   "source": [
    "<b>Example:</b> Write a Boolean expression to check if the average of height1, height2, and height3 is at least 65 inches.\n",
    "\n",
    "(height1 + height2 + height3) / 3 >= 65"
   ]
  },
  {
   "cell_type": "markdown",
   "metadata": {},
   "source": [
    "# Hack 2\n",
    "\n",
    "- Make a variable called 'is_raining' and set it to 'True\".\n",
    "\n",
    "- Make an if statement that prints \"Bring an umbrella!\" if it is true\n",
    "\n",
    "- Make an else statement that says \"The weather is clear\"."
   ]
  },
  {
   "cell_type": "code",
   "execution_count": null,
   "metadata": {},
   "outputs": [],
   "source": [
    "## YOUR CODE HERE\n",
    "is_raining=True\n",
    "if is_raining==1:\n",
    "    print(\"bring an umbrella\")\n",
    "else:\n",
    "    print(\"the weather is clear\")"
   ]
  },
  {
   "cell_type": "markdown",
   "metadata": {},
   "source": [
    "## <mark><b>Logical operators:</b></mark>\n",
    "Used to evaluate multiple conditions to produce a single Boolean value.\n",
    "\n",
    "- <b>NOT</b>\tevaluates to true if condition is false, otherwise evaluates to false\n",
    "- <b>AND</b>\tevaluates to true if both conditions are true, otherwise evaluates to false\n",
    "- <b>OR</b>\tevaluates to true if either condition is true or if both conditions are true, otherwise evaluates to false"
   ]
  },
  {
   "cell_type": "markdown",
   "metadata": {},
   "source": [
    "<b>Example:</b> You win the game if you score at least 10 points and have 5 lives left or if you score at least 50 points and have more than 0 lives left. Write the Boolean expression for this scenario.\n",
    "\n",
    "(score >= 10 AND lives == 5) OR (score == 50 AND lives > 0)"
   ]
  },
  {
   "cell_type": "markdown",
   "metadata": {},
   "source": [
    "## <mark><b>Relational and logical operators:</b></mark>\n",
    "\n",
    "<b>Example:</b> These expressions are all different but will produce the same result.\n",
    "\n",
    "- age >= 16\n",
    "- age > 16 OR age == 16\n",
    "- NOT age < 16"
   ]
  },
  {
   "cell_type": "markdown",
   "metadata": {},
   "source": [
    "# Hack 3\n",
    "\n",
    "- Make a function to randomize numbers between 0 and 100 to be assigned to variables a and b using random.randint\n",
    "\n",
    "- Print the values of the variables\n",
    "\n",
    "- Print the relationship of the variables; a is more than, same as, or less than b"
   ]
  },
  {
   "cell_type": "code",
   "execution_count": null,
   "metadata": {},
   "outputs": [],
   "source": [
    "## YOUR CODE HERE\n",
    "import random\n",
    "x=random.randint(0,100)\n",
    "x1=random.randint(0,100)\n",
    "if x==x1:\n",
    "    print(\"a is the same as b\", x, x1)\n",
    "if x>=x1:\n",
    "    print(\"a is greater then b\", x,\">\", x1)\n",
    "if x<=x1:\n",
    "    print(\"b is greater then a\", x,\"<\", x1)\n"
   ]
  },
  {
   "cell_type": "markdown",
   "metadata": {},
   "source": [
    "## <b>Homework</b>\n",
    "\n",
    "### Criteria for above 90%:\n",
    "- Add more questions relating to Boolean rather than only one per topic (ideas: expand on conditional statements, relational/logical operators)\n",
    "- Add a way to organize the user scores (possibly some kind of leaderboard, keep track of high score vs. current score, etc. Get creative!)\n",
    "- Remember to test your code to make sure it functions correctly."
   ]
  },
  {
   "cell_type": "code",
   "execution_count": 2,
   "metadata": {},
   "outputs": [
    {
     "name": "stdout",
     "output_type": "stream",
     "text": [
      "Question: What are the possible values of a Boolean variable?\n"
     ]
    }
   ],
   "source": [
    "#HOMEWORK\n",
    "\n",
    "\n",
    "# The quiz contains questions related to Boolean values, Boolean expressions,\n",
    "# conditional statements, relational operators, and logical operators.\n",
    "\n",
    "# Import necessary modules\n",
    "import getpass  # Module to get the user's name\n",
    "import sys  # Module to access system-related information\n",
    "\n",
    "# Function to ask a question and get a response\n",
    "def question_with_response(prompt):\n",
    "    # Print the question\n",
    "    print(\"Question: \" + prompt)\n",
    "    # Get user input as the response\n",
    "    msg = input()\n",
    "    return msg\n",
    "\n",
    "# Define the number of questions and initialize the correct answers counter\n",
    "questions = 5\n",
    "correct = 0\n",
    "user_name=input()\n",
    "# Question 1: Boolean Basics \n",
    "response = question_with_response(\"What are the possible values of a Boolean variable?\")\n",
    "if response.lower() == \"true or false\":\n",
    "    print(\"Correct!\")\n",
    "    correct += 1\n",
    "else:\n",
    "    print(\"Incorrect.\")\n",
    "\n",
    "# Question 2: Boolean Expressions\n",
    "response = question_with_response(\"Why are Boolean expressions important in programming?\")\n",
    "if \"control flow\" in response.lower() and \"decision making\" in response.lower():\n",
    "    print(\"Correct!\")\n",
    "    correct += 1\n",
    "else:\n",
    "    print(\"Incorrect.\")\n",
    "\n",
    "# Question 3: Conditional Statements\n",
    "response = question_with_response(\"What is the purpose of conditional (if-else) statements in programming?\")\n",
    "if \"execute different code\" in response.lower() and \"conditions met\" in response.lower():\n",
    "    print(\"Correct!\")\n",
    "    correct += 1\n",
    "else:\n",
    "    print(\"Incorrect.\")\n",
    "\n",
    "# Question 4: Relational Operators\n",
    "response = question_with_response(\"Give an example of a relational operator in programming.\")\n",
    "if response.lower() == \"==\" or response.lower() == \"<=\" or response.lower() == \">=\":\n",
    "    print(\"Correct!\")\n",
    "    correct += 1\n",
    "else:\n",
    "    print(\"Incorrect.\")\n",
    "\n",
    "# Question 5: Logical Operators\n",
    "response = question_with_response(\"Provide an example of a logical operator in programming.\")\n",
    "if response.lower() == \"and\" or response.lower() == \"or\" or response.lower() == \"not\":\n",
    "    print(\"Correct!\")\n",
    "    correct += 1\n",
    "else:\n",
    "    print(\"Incorrect.\")\n",
    "\n",
    "# Display the final score\n",
    "percentage_correct = (correct / questions) * 100\n",
    "print(user_name + \", you scored \" + str(correct) + \"/\" + str(questions) + \" which is \" + str(percentage_correct) + \"%.\")\n"
   ]
  }
 ],
 "metadata": {
  "kernelspec": {
   "display_name": "Python 3",
   "language": "python",
   "name": "python3"
  },
  "language_info": {
   "codemirror_mode": {
    "name": "ipython",
    "version": 3
   },
   "file_extension": ".py",
   "mimetype": "text/x-python",
   "name": "python",
   "nbconvert_exporter": "python",
   "pygments_lexer": "ipython3",
   "version": "3.11.4"
  }
 },
 "nbformat": 4,
 "nbformat_minor": 2
}
