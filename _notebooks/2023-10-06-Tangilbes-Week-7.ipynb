{
 "cells": [
  {
   "cell_type": "markdown",
   "metadata": {},
   "source": [
    "---\n",
    "toc: true\n",
    "comments: true\n",
    "layout: post\n",
    "title: Tanglibles 7\n",
    "description: Week 7 Tangibles\n",
    "courses: { csp: {week: 6} }\n",
    "type: tangibles\n",
    "---"
   ]
  },
  {
   "cell_type": "markdown",
   "metadata": {},
   "source": [
    "# Summary\n",
    "\n",
    "\n",
    "## Completed\n",
    "- [Data Abstraction Lessons](https://ak146.github.io/FunnyBlog2.0//2023/10/03/data-abstraction_IPYNB_2_.html)\n",
    "- [Algorithims Lessons](https://ak146.github.io/FunnyBlog2.0//2023/10/05/CSP-Algorithms-P2-2_IPYNB_2_.html)"
   ]
  }
 ],
 "metadata": {
  "language_info": {
   "name": "python"
  },
  "orig_nbformat": 4
 },
 "nbformat": 4,
 "nbformat_minor": 2
}
