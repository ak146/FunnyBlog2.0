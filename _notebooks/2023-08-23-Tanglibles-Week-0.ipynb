{
 "cells": [
  {
   "cell_type": "markdown",
   "metadata": {},
   "source": [
    "---\n",
    "toc: true\n",
    "comments: true\n",
    "layout: post\n",
    "title: Tanglibles 0\n",
    "description: Week 0 Tangibles\n",
    "courses: { csp: {week: 0} }\n",
    "type: tangibles\n",
    "---"
   ]
  },
  {
   "cell_type": "markdown",
   "metadata": {},
   "source": [
    "# Summary\n",
    "\n",
    "\n",
    "## Set Up-\n",
    "- Computer\n",
    "- Vscode\n",
    "- Homebrew\n",
    "- Jupyter Notebook\n",
    "- Github Desktop\n",
    "- Cloned Github Pages\n",
    "\n",
    "## Problems\n",
    "- My computer had trouble downloading Homebrew and Jupyter due to lack of Admin permissions\n",
    "\n"
   ]
  }
 ],
 "metadata": {
  "language_info": {
   "name": "python"
  },
  "orig_nbformat": 4
 },
 "nbformat": 4,
 "nbformat_minor": 2
}
