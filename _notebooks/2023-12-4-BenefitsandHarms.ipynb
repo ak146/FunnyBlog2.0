{
 "cells": [
  {
   "cell_type": "markdown",
   "metadata": {},
   "source": [
    "---\n",
    "comments: true\n",
    "toc: false\n",
    "layout: post\n",
    "title: 5.1 Beneficial and Harmful Effects Team Teach\n",
    "description: While computing innovations are typically designed to achieve a specific purpose, they may have unintended consequences.\n",
    "type: hacks \n",
    "courses: { csp: {week: 14} }\n",
    "---"
   ]
  },
  {
   "cell_type": "markdown",
   "metadata": {},
   "source": [
    "As new computing systems come out people will change how they go about their day-to-day buisness to take advantage of new technology. Companies like AMazon and Instacart have changed the way many people show and continue to change lifestyles. "
   ]
  },
  {
   "cell_type": "markdown",
   "metadata": {},
   "source": [
    "# Popcorn hack #1\n",
    "\n",
    "- Explain how an acclerometer is used on phones v. automobiles?\n",
    "    - In phones, accelerometers detect device orientation, enabling features like screen rotation and gesture control. In automobiles, accelerometers contribute to safety systems, such as airbag deployment and stability control, by sensing changes in the vehicle's acceleration."
   ]
  },
  {
   "cell_type": "markdown",
   "metadata": {},
   "source": [
    "##### Computing innovations have had great contributions to society, improving the quality of living. However, while computing innovations are typically designed to achieve a specific purpose, they may have unintended consequences.\n",
    "\n",
    "#### Multirotor drones used for aerial photography and surveillance (Used by ASB for the social media accounts!)\n",
    "\n",
    "Benefits\n",
    "- Deliveries of packages \n",
    "- Easy aerial photography\n",
    "\n",
    "Harmful\n",
    "- Flying in unregulated zones in illegal and dangerous\n",
    "- Privaacy concerns\n"
   ]
  },
  {
   "cell_type": "markdown",
   "metadata": {},
   "source": [
    "# Beneficial Effects of computing \n",
    "- Machines have vastly improves the medical field, saving many lives \n",
    "- Engineers take advantage of computing innovation to collect data and make work and buisnesses more efficeint. \n",
    "- The artistic world has also benifited from new ways to create, share, and sell creative works. "
   ]
  },
  {
   "cell_type": "markdown",
   "metadata": {},
   "source": [
    "# Harmul Effects of Computing Inovations\n",
    "- Computiong innovation can also hurt people \n",
    "    - ex: Cyber-Bullying\n",
    "- loss of provacy, and use of provate information gathered by companies \n",
    "- Dependence on technology and new innovation like chatgpt without liearning key things like researching on your own. \n",
    "- Replacments of humans by computing inovation leading to the loss of previously existing jobs, economic harship for the now-unemployed workers "
   ]
  },
  {
   "cell_type": "markdown",
   "metadata": {},
   "source": [
    "### A great example of a beneficial computing machine would be 3D printers\n",
    "- Open-source software for the computer and printer\n",
    "- Used in schools and at homes (New classes have been developed for the education of 3D printing)\n",
    "- 3D printers can be used for a variety of applications, creating published models"
   ]
  },
  {
   "cell_type": "markdown",
   "metadata": {},
   "source": [
    "## Key points to remember:\n",
    "\n",
    "- not every effect of computing innovation is anticipated in advance \n",
    "- A single effect can be viewed as both harmful and beneficial by different people or even by the same person. "
   ]
  },
  {
   "cell_type": "markdown",
   "metadata": {},
   "source": [
    "# Popcorn hack #2\n",
    "\n",
    "- Explain how an effect of computing innovation can be both beneficial and harmful"
   ]
  },
  {
   "cell_type": "markdown",
   "metadata": {},
   "source": [
    "## Unintended Uses\n",
    "- Responsible programmers try to consider the unintended ways their computing innovations can be used and the potential beneficial and harmful effects\n",
    "- It is impossible for programmers to consider all the ways a new computing innovation can be used\n",
    "- Rapid sharing of a program with large number of users can result in significant impacts beyond intended purpose or control of programmer\n",
    "- Job displacement: automation leads to job loss or changes in employment patterns\n",
    "- "
   ]
  },
  {
   "cell_type": "markdown",
   "metadata": {},
   "source": [
    "### Examples\n",
    "\n",
    "- Internet - Originally for scientists spreading information\n",
    "- Now, many people spend more time browsing the internet than they do sleeping\n",
    "### Questions\n",
    "Can you imagine your life without the World Wide Web?\n",
    "How different would the world be?\n",
    "How would you reallocate your free time?"
   ]
  },
  {
   "cell_type": "markdown",
   "metadata": {},
   "source": [
    "## Negative Effects\n",
    "\n",
    "### Microtransactions \n",
    "\n",
    "    - \"Free\" Games and Apps\n",
    "    - Cosmetics, paywall to function, sometimes pay-to-win\n",
    "        - Watermark removal \n",
    "        - In game currency \n",
    "        - Unlockable content\n",
    "        - Subscriptions \n",
    "        - Cosmetics (ie. Fortnite skins)\n",
    "    - SBUX with Starbucks \n",
    "        - Other businesses can't compete \n",
    "        - \"Casino Effect\"\n",
    "\n",
    "    Casino Effect \n",
    "        - Progression Systems \n",
    "        - Visual and Sound Cues\n",
    "        - Social Engagement and Competition\n",
    "\n",
    "    Loot Boxes (Banned in certain countries)\n",
    "        - Loot boxes are in-game reward systems found in many video games. They typically offer players a chance to obtain virtual items or rewards, often with varying levels of rarity or value. These boxes can be earned through gameplay or purchased using real money.\n",
    "\n",
    "        Dicussion and/or ban on loot boxes in the following:\n",
    "\n",
    "            - Belgium\n",
    "            - Netherlands\n",
    "            - China\n",
    "            - Japan \n",
    "            - South Korea\n",
    "            - United States \n",
    "\n",
    "\n",
    "## Dopamine Feedback Loops\n",
    "\n",
    "### Dopamine acts on areas of the brain to give you feelings of pleasure, satisfaction and motivation. Dopamine also has a role to play in controlling memory, mood, sleep, learning, concentration, movement and other body functions.\n",
    "\n",
    "Ex.\n",
    "- Getting a like from someone you admire on Instragram\n",
    "- People commenting on your posts\n",
    "\n",
    "These things make you feel happy. This makes you seek this feeling of validation and happiness, always wanting to get that next hit of dopamine. This makes you spend more time on the applications (mainly social media), further increasing your dependancy.\n",
    "\n",
    "Have you ever found yourself scrolling on TikTok, Instragram Reels or any other forms of short entertainment?\n",
    "\n",
    "- These applications are targeted to keep you hooked; you can scroll on the video instantaneously, until you find that video that makes your dopamine receptors fire\n",
    "\n",
    "Leads to:\n",
    "- Sleep deprivation\n",
    "- Anxiety\n",
    "- Depression\n",
    "- Loneliness"
   ]
  },
  {
   "cell_type": "markdown",
   "metadata": {},
   "source": [
    "### Always be concious about the amount of screen time you spend. You don't have to cut it out of your life completely, but try to keep it in moderation."
   ]
  }
 ],
 "metadata": {
  "language_info": {
   "name": "python"
  },
  "orig_nbformat": 4
 },
 "nbformat": 4,
 "nbformat_minor": 2
}
