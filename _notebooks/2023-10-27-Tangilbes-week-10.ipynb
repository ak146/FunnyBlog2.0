{
 "cells": [
  {
   "cell_type": "markdown",
   "metadata": {},
   "source": [
    "---\n",
    "toc: true\n",
    "comments: true\n",
    "layout: post\n",
    "title: Tanglibles 10\n",
    "description: Week 10 Tangibles\n",
    "courses: { csp: {week: 9} }\n",
    "type: tangibles\n",
    "---"
   ]
  },
  {
   "cell_type": "markdown",
   "metadata": {},
   "source": [
    "# Summary\n",
    "\n",
    "## Incomplete\n",
    "- The Front End home page needs to add more button functionality. I also need to better integrate into the game files made by Ryan and Daniel. \n",
    "- need to add a Timer. \n",
    "## Completed\n",
    "- [Developing Procedures](https://ak146.github.io/FunnyBlog2.0//2023/10/24/developing-procedures_IPYNB_2_.html)\n",
    "- [Python Libraries](https://ak146.github.io/FunnyBlog2.0//2023/10/26/Python-Libraries_IPYNB_2_.html)"
   ]
  }
 ],
 "metadata": {
  "language_info": {
   "name": "python"
  },
  "orig_nbformat": 4
 },
 "nbformat": 4,
 "nbformat_minor": 2
}
