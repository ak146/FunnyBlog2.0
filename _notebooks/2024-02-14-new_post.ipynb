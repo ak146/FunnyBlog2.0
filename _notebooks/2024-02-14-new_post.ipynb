{
 "cells": [
  {
   "cell_type": "markdown",
   "metadata": {},
   "source": [
    "---\n",
    "toc: true\n",
    "comments: true\n",
    "layout: N@TM\n",
    "title: Deployment\n",
    "description:  Deployment theory\n",
    "courses: { compsci: {week: 13} }\n",
    "type: hacks\n",
    "---"
   ]
  },
  {
   "cell_type": "markdown",
   "metadata": {},
   "source": [
    "# Team Reflection:\n",
    "Throughout this project, our group has had a lot of problems whether it be communication or work management. Our time management was bad which led me to have to have to rush to finish things on the last couple days. However, despite all the problems our group had, we have now managed to create a working backend and frontend. It was a challenge for me to learn how to get the backend to sync with the frontend. After learning and debugging for the past week, I feel much more confident that I can help my teammates finish up their features.\n",
    "Based off of the feedback we've received from other groups and the teacher, we need to add more depth to our project. Right now everything is only synced on one game and the features we have out either too simple or not quite working. Over the break, we will work to add a wider variety of features to our game(Ishan is trying to add an educational feature) and fully sync up the leaderboard system.\n",
    "\n",
    "# [cors issue](https://github.com/IshanCornick/RealEstatebackend/issues/1)\n",
    "\n",
    "# [solutions](https://github.com/IshanCornick/Real-Estate-Frontend/issues/3)\n",
    "\n",
    "# Event:\n",
    "Even though I didn't go to the event, I still saw a lot of projects including Dante, Ashwin, and Lincoln's Clash Royale Project. \n",
    "\n"
   ]
  }
 ],
 "metadata": {
  "language_info": {
   "name": "python"
  }
 },
 "nbformat": 4,
 "nbformat_minor": 2
}
