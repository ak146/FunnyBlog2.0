{
 "cells": [
  {
   "cell_type": "markdown",
   "metadata": {},
   "source": [
    "---\n",
    "toc: True\n",
    "comments: False\n",
    "layout: post\n",
    "title:  Future Plans/ Reflection\n",
    "description: For the next trimester \n",
    "type: plans\n",
    "courses: {'csp': {'week': 9}}\n",
    "---"
   ]
  },
  {
   "cell_type": "markdown",
   "metadata": {},
   "source": [
    "# Summary\n",
    "- This trimester I learned about the importance of team. Throughout the year I had many days where I could not commit as much as I would like to due to volleyball. My teammates were able to help me catch back up and when they needed help, I was able to help the. I helped Ryan and Daniel make the game in JS.\n",
    "- I also learned about many different coding languages. My biggest weakness is Python. I learned Java first which made it hard to relearn the precise syntax. In the future, I will focus more on my Python so I can become a more diverse and versatile coder. I was very limited to JS and HTML this trimester.\n",
    "- Another big weakness that I had was presenting. I was never the main speaker in any of our presentations and when I did speak I often stuttered and forgot my pieces. I feel like this is a big area of growth for me as I have struggled with it for many years. \n"
   ]
  }
 ],
 "metadata": {
  "language_info": {
   "name": "python"
  },
  "orig_nbformat": 4
 },
 "nbformat": 4,
 "nbformat_minor": 2
}
