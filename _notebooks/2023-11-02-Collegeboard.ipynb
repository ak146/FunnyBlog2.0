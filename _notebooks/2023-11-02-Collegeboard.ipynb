{
 "cells": [
  {
   "cell_type": "markdown",
   "metadata": {},
   "source": [
    "---\n",
    "layout: post\n",
    "title: Collegeboard Review\n",
    "description: A review of collegeboard mcq\n",
    "type: post\n",
    "courses: { csp: {week: 1} }\n",
    "---"
   ]
  },
  {
   "cell_type": "markdown",
   "metadata": {},
   "source": [
    "# Summary\n",
    "\n",
    "\n",
    "## Things to study\n",
    "- Pseudo code is slightly different than actual code\n",
    "- make sure I read what each function does. \n",
    "- encoding \n",
    "- 29 is confusing?\n",
    "- I have a lot of work to do when it comes to reading pseudo code. \n",
    "- next time it might be a good idea to use paper to visualize the code\n",
    "- open standards?"
   ]
  }
 ],
 "metadata": {
  "language_info": {
   "name": "python"
  },
  "orig_nbformat": 4
 },
 "nbformat": 4,
 "nbformat_minor": 2
}
