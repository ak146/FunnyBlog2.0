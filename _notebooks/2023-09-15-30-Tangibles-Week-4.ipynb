{
 "cells": [
  {
   "cell_type": "markdown",
   "metadata": {},
   "source": [
    "---\n",
    "toc: true\n",
    "comments: true\n",
    "layout: post\n",
    "title: Tanglibles 4/ Week 5 plans\n",
    "description: Week 4 Tangibles\n",
    "courses: { csp: {week: 5} }\n",
    "type: tangibles\n",
    "---"
   ]
  },
  {
   "cell_type": "markdown",
   "metadata": {},
   "source": [
    "# Summary\n",
    "\n",
    "\n",
    "## Completed\n",
    "- BINARY: We began learning binary and how to count in binary: 10 in binary is 1010 (8+0+2+0) or 1111 is 15 (8+4+2+1)\n",
    "- Prep for team test\n",
    "\n",
    "# Plans\n",
    "- Finish up the Team test.\n",
    "- Learn how to dom and use basic html/JS commands and relate back to our passion Project."
   ]
  }
 ],
 "metadata": {
  "language_info": {
   "name": "python"
  },
  "orig_nbformat": 4
 },
 "nbformat": 4,
 "nbformat_minor": 2
}
