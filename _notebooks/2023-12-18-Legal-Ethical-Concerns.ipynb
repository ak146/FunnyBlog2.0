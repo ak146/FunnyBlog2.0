{
 "cells": [
  {
   "cell_type": "markdown",
   "metadata": {},
   "source": [
    "# 5.5 Legal & Ethical Concerns"
   ]
  },
  {
   "cell_type": "markdown",
   "metadata": {},
   "source": [
    "## Introduction\n",
    "\n",
    "As the landscape of intellectual property and technology continues to grow and evolve, it's becoming increasingly fundamentally important to understand digital licensing, fair usage, and access for both legal and generally ethical reasons.\n",
    "\n",
    "In this Team Teach, we'll explore those principles and their significance in relation to technological innovation and creativity."
   ]
  },
  {
   "cell_type": "markdown",
   "metadata": {},
   "source": [
    "## Intellectual Property (IP)\n",
    "\n",
    "- **Intellectual Property (IP):** a creative idea or invention that is intellectually sourced from the mind\n",
    "    - Ex: literary + generally artistic works, designs, symbols, names, images, etc.\n",
    "    - The individual who came up with the idea has rights to it\n",
    "- Concerns rise with ownership because of more and more things being digitized\n",
    "    - --> Relation to the computer science field\n",
    "        - Programs, applications/software…\n",
    "    - Whether or not one is allowed to use these creations\n",
    "        - There is widespread access to said creations, meaning that they can easily be saved and accessed and distributed very quickly\n",
    "\n",
    "<img src=\"https://github.com/tuckergol/student2/blob/main/images/IP%20Diagram.png?raw=true\">\n",
    "\n",
    "- **Trademark:** certifies distinction or recognizability\n",
    "    - Through USPTO (U.S. gov. agency): [uspto.gov/trademarks/apply](https://www.uspto.gov/trademarks/apply)\n",
    "- **Trade Secret:** IP law gives the owner of a trade secret the right to restrict others from disclosing it\n",
    "    - Economic value; competitive advantage\n",
    "- **Patent:** gives its IP owner the right to prevent others from making/using/selling a creation"
   ]
  },
  {
   "cell_type": "markdown",
   "metadata": {},
   "source": [
    "## Copyright\n",
    "\n",
    "- Creating anything allows the individual who created it the right to an **All Rights Reserved Copyright**\n",
    "    - Copyright is a law which protects and Intellectual Property\n",
    "        - Protects Intellectual Property, preventing anyone from using it without the permission of the individual who created it\n",
    "- Violating this is considered plagiarism, an offense of Copyright\n",
    "    - Violation may cause legal consequences depending on severity\n",
    "        - Ex: fine, potential imprisonment…\n",
    "- Legal ways to use material created by someone else:\n",
    "    - Creative Commons Licensing\n",
    "    - Open Source\n",
    "    - Open Access\n",
    "\n",
    "## Creative Commons\n",
    "\n",
    "- Provides free licensing that you can use to tell others how you want them to use your creations (IP)\n",
    "    - Through: [creativecommons.org](https://creativecommons.org/)\n",
    "- States what can and can’t be done with your IP\n",
    "\n",
    "Examples:\n",
    "\n",
    "<img src=\"https://github.com/tuckergol/student2/blob/main/images/Copyright%20Examples.png?raw=true\">"
   ]
  },
  {
   "cell_type": "markdown",
   "metadata": {},
   "source": [
    "## Popcorn Hack #1\n",
    "\n",
    "What is the primary purpose of Copyright law, and how does it protect Intellectual Property? Provide a brief explanation of the key rights granted to creators under Copyright."
   ]
  },
  {
   "cell_type": "markdown",
   "metadata": {},
   "source": [
    "## Open Source\n",
    "- **Open Source:** programs made freely available for anyone to use, redistribute, and modify\n",
    "    - Encourage open collaboration and modification/use of the creation\n",
    "- Open Source software typically comes with a license that determines how it can be used\n",
    "    - For example, the MIT License, one of the most common Open Source licenses, states that the authors of the open source software in question are not liable for any issues caused by the software\n",
    "\n",
    "Other examples:\n",
    "- The Linux kernel\n",
    "- The Chromium browser engine\n",
    "- The WebRTC Protocol\n",
    "\n",
    "## Open Access\n",
    "- Open Access: online research output devoid of restrictions on access or use\n",
    "- Research pertaining to cybersecurity is typically open access\n",
    "- Open Access aids in the advancement of science\n",
    "    - Benefits public research capability; articles in Open Access journals are freely available online, maximizing their visibility and encouraging widespread engagement\n",
    "\n",
    "It’s important to remember that you should always cite sources and give credit where it belongs."
   ]
  },
  {
   "cell_type": "markdown",
   "metadata": {},
   "source": [
    "## Popcorn Hack #2\n",
    "\n",
    "What are the main advantages of Open Source software? How does it foster collaboration in the development community?"
   ]
  },
  {
   "cell_type": "markdown",
   "metadata": {},
   "source": [
    "## Legal & Ethical Concerns\n",
    "\n",
    "- Broad access to creations because of Open Source/Access + Creative Commons\n",
    "    - Free and encouraged use + modification of creations occasionally invites some to use them to harm others, raising Legal and Ethical Concerns\n",
    "        - Potential legal consequences\n",
    "            - Examples…\n",
    "                - Pirating\n",
    "                    - Video games\n",
    "                    - Illegal online movie streaming services\n",
    "                - Computers that monitor individuals and collect data\n",
    "- Connects → Digital Divide\n",
    "    - Even with broader accessibility, not everyone will be able to access creations due to other factors from the Digital Divide\n",
    "        - Ex: location, race, age, etc.\n",
    "\n",
    "<img src=\"https://github.com/tuckergol/student2/blob/main/images/Legal%20and%20Ethical%20Diagram.png?raw=true\">"
   ]
  },
  {
   "cell_type": "markdown",
   "metadata": {},
   "source": [
    "## Homework Hack\n",
    "\n",
    "#### [Google Form (Quiz)](https://docs.google.com/forms/d/e/1FAIpQLSdbVlNG-KRIOsdhpqm9DBcdtxqDefy9GF1qi4kdIWgvH8bbbg/viewform?usp=sf_link)\n",
    "\n",
    "Don't forget to document what you learned through utterances on this file on your blog."
   ]
  }
 ],
 "metadata": {
  "language_info": {
   "name": "python"
  },
  "orig_nbformat": 4
 },
 "nbformat": 4,
 "nbformat_minor": 2
}
