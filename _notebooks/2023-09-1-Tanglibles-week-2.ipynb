{
 "cells": [
  {
   "cell_type": "markdown",
   "metadata": {},
   "source": [
    "---\n",
    "toc: true\n",
    "comments: true\n",
    "layout: post\n",
    "title: Tanglibles 2/ week 3 plans\n",
    "description: Week 2 Tangibles\n",
    "courses: { csp: {week: 1} }\n",
    "type: tangibles\n",
    "---"
   ]
  },
  {
   "cell_type": "markdown",
   "metadata": {},
   "source": [
    "# Summary\n",
    "\n",
    "\n",
    "## Completed\n",
    "- Tangible:\n",
    "- [Snake Game](https://ak146.github.io/FunnyBlog2.0//c4.9/2023/08/21/snake-game.html)\n",
    "- [Calculator](https://ak146.github.io/FunnyBlog2.0//techtalk/home_style)\n",
    "- [Tic Tac Toe](https://ak146.github.io/FunnyBlog2.0//2023/09/07/tic-tac-toe.html)\n",
    "- [Data Table of big game fish](https://ak146.github.io/FunnyBlog2.0//2023/09/08/table_IPYNB_2_.html)\n",
    "\n",
    "# Plans\n",
    "- Monday: Add new keybinds to the Snake Game so it doesn't move around the screen while playing. Add new colors\n",
    "- Tuesday: ix Tic Tac Toe as it is still glitching \n",
    "- Wednesday: Finish JS table\n",
    "- LIVE REVIEW ON THURSDAY\n",
    "- Friday: Add division to calculator.\n"
   ]
  }
 ],
 "metadata": {
  "language_info": {
   "name": "python"
  },
  "orig_nbformat": 4
 },
 "nbformat": 4,
 "nbformat_minor": 2
}
