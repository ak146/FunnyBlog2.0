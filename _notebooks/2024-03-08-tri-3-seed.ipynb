{
 "cells": [
  {
   "cell_type": "markdown",
   "metadata": {},
   "source": [
    "---\n",
    "toc: true\n",
    "comments: true\n",
    "layout: post\n",
    "title: Tri 3 individual review\n",
    "description:  tri 3 individual seed review\n",
    "courses: { compsci: {week: 13} }\n",
    "type: hacks\n",
    "---"
   ]
  },
  {
   "cell_type": "markdown",
   "metadata": {},
   "source": [
    "### Thoughts\n",
    "- I feel as though this tri was far harder than the first one. In order to complete our project, I had to focus and learn a lot more about coding. I had to complete tasks in the front and back end code. I was the person who first learned about how the backend worked and had to continue to work hard even after my feature was completed to help debug and explain the backend to my partners. \n",
    "\n",
    "## Individual Feature\n",
    "My feature was the score and leaderboard features. I had to connect the score in the frontend to the backend and make a leaderboard that compared the scores.\n",
    "I also added the login and create user pages that were displayed on the second quiz. \n",
    "I edited the CSS for both the Login and Cookie Clicker.\n",
    "\n",
    "## CPT Project\n",
    "[CPT Blog](https://ak146.github.io/FunnyBlog2.0/2024/02/24/final-tri-2_IPYNB_2_.html)\n",
    "\n",
    "## Video\n",
    "input to program: the cookie button updating score in SQlite database.\n",
    "At least one aspect of the functionality of your program: The leaderboard displaying the correct numbers and rearangging \n",
    "No more than 1 minute in length\n",
    "No more than 30MB in file size\n",
    "\n",
    "[video](https://drive.google.com/file/d/1Mofw2i-X2rCWn2_PPjSZfFhwgtOJjtLe/view?usp=sharing)\n",
    "\n",
    "### Personal Growth\n",
    "\n",
    "# AP PREP\n",
    "[updated blogs](https://ak146.github.io/FunnyBlog2.0/blogs)\n",
    "\n",
    "- Overrall I feel like I was able to complete a lot what I aimed to do at the end of last tri. Last tri I was a mainly frontend person and this tri I was the first person in our group to begin working on and understanding the backend. I was able to help our whole group begin setting up their backends. This tri I felt I was a lot more consistent with commits. I was able to get the login system working as well as getting most of the cookie clicking up. I have learned a lot about debugging, sqlite and the importance of downloading PyJWT. I learned the importane of keeping logs of everything I do as well as backups of old code.\n",
    "\n",
    "\n",
    "this was the most important single line of code I added as it updated the backend to return a sorted list.\n",
    "![most important](https://i.ibb.co/3m83FwH/Screenshot-2024-02-25-212652.png>)\n",
    "\n",
    "this was the most important commit as it updated the backend to have score\n",
    "[commit](https://github.com/IshanCornick/RealEstatebackend/commit/d0aaa89cf70281cd9e9d44b3486e42a0f76feb3a)\n",
    "\n",
    "[commits](https://github.com/ak146)\n",
    "# Issues\n",
    "[PyJWT](https://github.com/IshanCornick/Real-Estate-Frontend/issues/3)\n",
    "\n",
    "[cors](https://github.com/IshanCornick/RealEstatebackend/issues/1)\n",
    "\n",
    "[debugging plans](https://github.com/IshanCornick/Real-Estate-Frontend/issues/2)"
   ]
  }
 ],
 "metadata": {
  "language_info": {
   "name": "python"
  }
 },
 "nbformat": 4,
 "nbformat_minor": 2
}
