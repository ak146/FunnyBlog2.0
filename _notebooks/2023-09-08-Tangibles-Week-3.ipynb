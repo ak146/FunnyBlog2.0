{
 "cells": [
  {
   "cell_type": "markdown",
   "metadata": {},
   "source": [
    "---\n",
    "toc: true\n",
    "comments: true\n",
    "layout: post\n",
    "title: Tanglibles 3 / Week 4 plans\n",
    "description: Week 3 Tangibles\n",
    "courses: { csp: {week: 2} }\n",
    "type: tangibles\n",
    "---"
   ]
  },
  {
   "cell_type": "markdown",
   "metadata": {},
   "source": [
    "# Summary\n",
    "\n",
    "\n",
    "## Completed\n",
    "- [Snake Game](https://ak146.github.io/FunnyBlog2.0/c4.9/2023/08/21/snake-game.html): Added different Key Binds, Changed Colors of snakes, started work on new project\n",
    "- Prep for live review\n",
    "- JsTable\n",
    "\n",
    "# Plans\n",
    "- BIG GROUPS: partnering with Saaras and Will. We need to start working together on the team test."
   ]
  }
 ],
 "metadata": {
  "language_info": {
   "name": "python"
  },
  "orig_nbformat": 4
 },
 "nbformat": 4,
 "nbformat_minor": 2
}
