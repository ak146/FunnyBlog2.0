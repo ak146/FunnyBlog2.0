{
 "cells": [
  {
   "cell_type": "markdown",
   "metadata": {},
   "source": [
    "---\n",
    "toc: true\n",
    "comments: true\n",
    "layout: post\n",
    "title: Tanglibles 9/Week 10 Plans\n",
    "description: Week 9 Tangibles\n",
    "courses: { csp: {week: 8} }\n",
    "type: tangibles\n",
    "---"
   ]
  },
  {
   "cell_type": "markdown",
   "metadata": {},
   "source": [
    "# Summary\n",
    "\n",
    "## Incomplete\n",
    "- Began working on our teamteach\n",
    "- Opened up flask server and started modifying\n",
    "## Completed\n",
    "- [Developing Algorithims](https://ak146.github.io/FunnyBlog2.0//2023/10/05/CSP-Algorithms-P2-2_IPYNB_2_.html)\n",
    "## TEAM TEACH REVIEW\n",
    "- We did not perform as well as expected. We switched around roles last minute. This left me confused as to what I was presenting. We went on too long and started off too advanced for our audience. In the future we need to ease our audience slowly into out topic\n",
    "\n",
    "# Plans\n",
    "- Finish up the Front End page: Get the buttons working so that it goes from homepage to rules to about. Add a start button. \n",
    "- Need to add a timer to the game for JS code and make it end the game when conditions are met."
   ]
  }
 ],
 "metadata": {
  "language_info": {
   "name": "python"
  },
  "orig_nbformat": 4
 },
 "nbformat": 4,
 "nbformat_minor": 2
}
